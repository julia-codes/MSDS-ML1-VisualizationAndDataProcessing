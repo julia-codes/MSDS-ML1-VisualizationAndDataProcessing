{
 "cells": [
  {
   "cell_type": "markdown",
   "metadata": {},
   "source": [
    "# Business Understanding\n",
    "#### Describe the purpose of the data set you selected (i.e., why was this data collected in the first place?). Describe how you would define and measure the outcomes from the dataset. That is, why is this data important and how do you know if you have mined useful knowledge from the dataset? How would you measure the effectiveness of a good prediction algorithm? Be specific."
   ]
  },
  {
   "cell_type": "markdown",
   "metadata": {},
   "source": [
    "\n",
    "Test line ..... \n",
    "\n",
    "This Los Angelas crime dataset was supplied by LA County. It uses uniform crime reporting (UCR) created by the FBI to summarize incident info in a repeatable and comparable way to other cities, counties, and states. The LA City Mayor wrote that the purpose of the data was for transparency's sake as well as encouraging those outside of the government to be able to use the data for the sake of innovation.\n",
    "[Ref: https://data.lacity.org/]\n",
    "\n",
    "* Add what our determined response is and follow formatting from class\n",
    "* Add excerpts from text below\n",
    "\n",
    "\n",
    "**Crime Data from 2010 to 2019:**  \n",
    "This dataset reflects incidents of crime in the City of Los Angeles from 2010 - 2019. This data is transcribed from original crime reports that are typed on paper and therefore there may be some inaccuracies within the data. Some location fields with missing data are noted as (0°, 0°). Address fields are only provided to the nearest hundred block in order to maintain privacy. This data is as accurate as the data in the database. Please note questions or concerns in the comments.\n",
    "\n",
    "\n",
    "**A Message from Mayor Eric Garcetti:**  \n",
    "We are sharing city data with the public to increase transparency, accountability and customer service and to empower companies, individuals and non-profit organizations with the ability to harness a vast array of useful information to improve life in our city. I hope that this data will help drive innovation and problem solving within the public and private sectors and that Angelenos will use it to more deeply understand and engage with their city. I encourage you to explore data.lacity.org to conduct research, develop apps or simply to poke around.\n",
    "[Ref: https://data.lacity.org/]\n",
    "\n",
    "(WHAT VARIABLE WE CARE ABOUT)\n",
    "\n",
    "*[Ref: The data set used for the purposes on this project is sourced from [LOS ANGELES OPEN DATA](https://data.lacity.org/A-Safe-City/Crime-Data-from-2010-to-2019/63jg-8b9z).]*  "
   ]
  },
  {
   "cell_type": "markdown",
   "metadata": {},
   "source": [
    "### Import various modules"
   ]
  },
  {
   "cell_type": "code",
   "execution_count": 2,
   "metadata": {},
   "outputs": [],
   "source": [
    "import pandas as pd"
   ]
  },
  {
   "cell_type": "code",
   "execution_count": 3,
   "metadata": {},
   "outputs": [],
   "source": [
    "import numpy as np"
   ]
  },
  {
   "cell_type": "code",
   "execution_count": 11,
   "metadata": {},
   "outputs": [],
   "source": [
    "import matplotlib.pyplot as plt"
   ]
  },
  {
   "cell_type": "code",
   "execution_count": 16,
   "metadata": {},
   "outputs": [],
   "source": [
    "import descartes"
   ]
  },
  {
   "cell_type": "code",
   "execution_count": 17,
   "metadata": {},
   "outputs": [
    {
     "name": "stdout",
     "output_type": "stream",
     "text": [
      "Collecting geopandas\n",
      "  Downloading geopandas-0.8.1-py2.py3-none-any.whl (962 kB)\n",
      "Requirement already satisfied: pandas>=0.23.0 in c:\\users\\giti\\anaconda3\\envs\\ml7331_p37\\lib\\site-packages (from geopandas) (1.1.1)\n",
      "Collecting fiona\n",
      "  Downloading Fiona-1.8.16.tar.gz (1.3 MB)\n"
     ]
    },
    {
     "name": "stderr",
     "output_type": "stream",
     "text": [
      "    ERROR: Command errored out with exit status 1:\n",
      "     command: 'C:\\Users\\Giti\\anaconda3\\envs\\ML7331_P37\\python.exe' -c 'import sys, setuptools, tokenize; sys.argv[0] = '\"'\"'C:\\\\Users\\\\Giti\\\\AppData\\\\Local\\\\Temp\\\\pip-install-unqrwnfs\\\\fiona\\\\setup.py'\"'\"'; __file__='\"'\"'C:\\\\Users\\\\Giti\\\\AppData\\\\Local\\\\Temp\\\\pip-install-unqrwnfs\\\\fiona\\\\setup.py'\"'\"';f=getattr(tokenize, '\"'\"'open'\"'\"', open)(__file__);code=f.read().replace('\"'\"'\\r\\n'\"'\"', '\"'\"'\\n'\"'\"');f.close();exec(compile(code, __file__, '\"'\"'exec'\"'\"'))' egg_info --egg-base 'C:\\Users\\Giti\\AppData\\Local\\Temp\\pip-pip-egg-info-6uvgov4t'\n",
      "         cwd: C:\\Users\\Giti\\AppData\\Local\\Temp\\pip-install-unqrwnfs\\fiona\\\n",
      "    Complete output (1 lines):\n",
      "    A GDAL API version must be specified. Provide a path to gdal-config using a GDAL_CONFIG environment variable or use a GDAL_VERSION environment variable.\n",
      "    ----------------------------------------\n",
      "ERROR: Command errored out with exit status 1: python setup.py egg_info Check the logs for full command output.\n"
     ]
    }
   ],
   "source": [
    "!pip install geopandas"
   ]
  },
  {
   "cell_type": "code",
   "execution_count": 18,
   "metadata": {},
   "outputs": [
    {
     "ename": "ModuleNotFoundError",
     "evalue": "No module named 'geopandas'",
     "output_type": "error",
     "traceback": [
      "\u001b[1;31m---------------------------------------------------------------------------\u001b[0m",
      "\u001b[1;31mModuleNotFoundError\u001b[0m                       Traceback (most recent call last)",
      "\u001b[1;32m<ipython-input-18-fee12c3bb575>\u001b[0m in \u001b[0;36m<module>\u001b[1;34m\u001b[0m\n\u001b[1;32m----> 1\u001b[1;33m \u001b[1;32mimport\u001b[0m \u001b[0mgeopandas\u001b[0m \u001b[1;32mas\u001b[0m \u001b[0mgpd\u001b[0m\u001b[1;33m\u001b[0m\u001b[1;33m\u001b[0m\u001b[0m\n\u001b[0m\u001b[0;32m      2\u001b[0m \u001b[1;32mfrom\u001b[0m \u001b[0mshapely\u001b[0m\u001b[1;33m.\u001b[0m\u001b[0mgeometry\u001b[0m \u001b[1;32mimport\u001b[0m \u001b[0mPoint\u001b[0m\u001b[1;33m,\u001b[0m \u001b[0mPolygon\u001b[0m\u001b[1;33m\u001b[0m\u001b[1;33m\u001b[0m\u001b[0m\n\u001b[0;32m      3\u001b[0m \u001b[1;33m\u001b[0m\u001b[0m\n\u001b[0;32m      4\u001b[0m \u001b[0mget_ipython\u001b[0m\u001b[1;33m(\u001b[0m\u001b[1;33m)\u001b[0m\u001b[1;33m.\u001b[0m\u001b[0mrun_line_magic\u001b[0m\u001b[1;33m(\u001b[0m\u001b[1;34m'matplotlib'\u001b[0m\u001b[1;33m,\u001b[0m \u001b[1;34m'inline'\u001b[0m\u001b[1;33m)\u001b[0m\u001b[1;33m\u001b[0m\u001b[1;33m\u001b[0m\u001b[0m\n",
      "\u001b[1;31mModuleNotFoundError\u001b[0m: No module named 'geopandas'"
     ]
    }
   ],
   "source": [
    "import geopandas as gpd\n",
    "from shapely.geometry import Point, Polygon\n",
    "\n",
    "%matplotlib inline"
   ]
  },
  {
   "cell_type": "markdown",
   "metadata": {},
   "source": [
    "# Meaning and type of data  \n",
    "#### [10 points] Describe the meaning and type of data (scale, values, etc.) for each attribute in the data file."
   ]
  },
  {
   "cell_type": "code",
   "execution_count": 4,
   "metadata": {},
   "outputs": [],
   "source": [
    "# Load the LA Crimes data set into pandas dataframe\n",
    "\n",
    "df = pd.read_csv(\"Data/Crime_Data_from_2010_to_2019.csv\")"
   ]
  },
  {
   "cell_type": "code",
   "execution_count": 5,
   "metadata": {},
   "outputs": [
    {
     "name": "stdout",
     "output_type": "stream",
     "text": [
      "Total number of rows in the dataframe: 2115333\n",
      "Total number of columns in the dataframe: 28\n"
     ]
    }
   ],
   "source": [
    "# List the total number of rows and columns in the dataframe\n",
    "\n",
    "print(\"Total number of rows in the dataframe: \" + str(df.shape[0]))\n",
    "print(\"Total number of columns in the dataframe: \" + str(df.shape[1]))"
   ]
  },
  {
   "cell_type": "code",
   "execution_count": 7,
   "metadata": {},
   "outputs": [
    {
     "name": "stdout",
     "output_type": "stream",
     "text": [
      "<class 'pandas.core.frame.DataFrame'>\n",
      "RangeIndex: 2115333 entries, 0 to 2115332\n",
      "Data columns (total 28 columns):\n",
      " #   Column          Dtype  \n",
      "---  ------          -----  \n",
      " 0   DR_NO           int64  \n",
      " 1   Date Rptd       object \n",
      " 2   DATE OCC        object \n",
      " 3   TIME OCC        int64  \n",
      " 4   AREA            int64  \n",
      " 5   AREA NAME       object \n",
      " 6   Rpt Dist No     int64  \n",
      " 7   Part 1-2        int64  \n",
      " 8   Crm Cd          int64  \n",
      " 9   Crm Cd Desc     object \n",
      " 10  Mocodes         object \n",
      " 11  Vict Age        int64  \n",
      " 12  Vict Sex        object \n",
      " 13  Vict Descent    object \n",
      " 14  Premis Cd       float64\n",
      " 15  Premis Desc     object \n",
      " 16  Weapon Used Cd  float64\n",
      " 17  Weapon Desc     object \n",
      " 18  Status          object \n",
      " 19  Status Desc     object \n",
      " 20  Crm Cd 1        float64\n",
      " 21  Crm Cd 2        float64\n",
      " 22  Crm Cd 3        float64\n",
      " 23  Crm Cd 4        float64\n",
      " 24  LOCATION        object \n",
      " 25  Cross Street    object \n",
      " 26  LAT             float64\n",
      " 27  LON             float64\n",
      "dtypes: float64(8), int64(7), object(13)\n",
      "memory usage: 451.9+ MB\n"
     ]
    }
   ],
   "source": [
    "# Displaying the data types of each column/attribute\n",
    "\n",
    "df.info()"
   ]
  },
  {
   "cell_type": "markdown",
   "metadata": {},
   "source": [
    "Based on the outputs above we have the following observations for the LA Crimes data set:\n",
    "- Total number of rows in the dataframe are: 2115333\n",
    "- Total number of columns in the dataframe are: 28\n",
    "- The data is saved as 3 main categories: \n",
    " - 8 columns with float64 values.\n",
    " - 7 columns with int64 values.\n",
    " - 13 columns with nominal object values.\n",
    "\n",
    "**A detailed description of each attribute along with its meaning and data type are displayed in a table below.**"
   ]
  },
  {
   "cell_type": "code",
   "execution_count": 3,
   "metadata": {},
   "outputs": [
    {
     "data": {
      "text/html": [
       "<table border=\"1\" class=\"dataframe\">\n",
       "  <thead>\n",
       "    <tr style=\"text-align: right;\">\n",
       "      <th></th>\n",
       "      <th>Column_Name</th>\n",
       "      <th>Description</th>\n",
       "      <th>Data_Type</th>\n",
       "    </tr>\n",
       "  </thead>\n",
       "  <tbody>\n",
       "    <tr>\n",
       "      <th>0</th>\n",
       "      <td>DR_NO</td>\n",
       "      <td>Division of Records Number: Official file number made up of a 2 digit year, area ID, and 5 digits</td>\n",
       "      <td>Plain Text</td>\n",
       "    </tr>\n",
       "    <tr>\n",
       "      <th>1</th>\n",
       "      <td>Date Rptd</td>\n",
       "      <td>MM/DD/YYYY</td>\n",
       "      <td>Date &amp; Time</td>\n",
       "    </tr>\n",
       "    <tr>\n",
       "      <th>2</th>\n",
       "      <td>DATE OCC</td>\n",
       "      <td>MM/DD/YYYY</td>\n",
       "      <td>Date &amp; Time</td>\n",
       "    </tr>\n",
       "    <tr>\n",
       "      <th>3</th>\n",
       "      <td>TIME OCC</td>\n",
       "      <td>In 24 hour military time.</td>\n",
       "      <td>Plain Text</td>\n",
       "    </tr>\n",
       "    <tr>\n",
       "      <th>4</th>\n",
       "      <td>AREA</td>\n",
       "      <td>The LAPD has 21 Community Police Stations referred to as Geographic Areas within the department. These Geographic Areas are sequentially numbered from 1-21.</td>\n",
       "      <td>Plain Text</td>\n",
       "    </tr>\n",
       "    <tr>\n",
       "      <th>5</th>\n",
       "      <td>AREA NAME</td>\n",
       "      <td>The 21 Geographic Areas or Patrol Divisions are also given a name designation that references a landmark or the surrounding community that it is responsible for. For example 77th Street Division is located at the intersection of South Broadway and 77th Street, serving neighborhoods in South Los Angeles.</td>\n",
       "      <td>Plain Text</td>\n",
       "    </tr>\n",
       "    <tr>\n",
       "      <th>6</th>\n",
       "      <td>Rpt Dist No</td>\n",
       "      <td>A four-digit code that represents a sub-area within a Geographic Area. All crime records reference the \"RD\" that it occurred in for statistical comparisons. Find LAPD Reporting Districts on the LA City GeoHub at http://geohub.lacity.org/datasets/c4f83909b81d4786aa8ba8a74a4b4db1_4</td>\n",
       "      <td>Plain Text</td>\n",
       "    </tr>\n",
       "    <tr>\n",
       "      <th>7</th>\n",
       "      <td>Part 1-2</td>\n",
       "      <td>-</td>\n",
       "      <td>Number</td>\n",
       "    </tr>\n",
       "    <tr>\n",
       "      <th>8</th>\n",
       "      <td>Crm Cd</td>\n",
       "      <td>Indicates the crime committed. (Same as Crime Code 1)</td>\n",
       "      <td>Plain Text</td>\n",
       "    </tr>\n",
       "    <tr>\n",
       "      <th>9</th>\n",
       "      <td>Crm Cd Desc</td>\n",
       "      <td>Defines the Crime Code provided.</td>\n",
       "      <td>Plain Text</td>\n",
       "    </tr>\n",
       "    <tr>\n",
       "      <th>10</th>\n",
       "      <td>Mocodes</td>\n",
       "      <td>Modus Operandi: Activities associated with the suspect in commission of the crime.See attached PDF for list of MO Codes in numerical order. https://data.lacity.org/api/views/y8tr-7khq/files/3a967fbd-f210-4857-bc52-60230efe256c?download=true&amp;filename=MO%20CODES%20(numerical%20order).pdf</td>\n",
       "      <td>Plain Text</td>\n",
       "    </tr>\n",
       "    <tr>\n",
       "      <th>11</th>\n",
       "      <td>Vict Age</td>\n",
       "      <td>Two character numeric</td>\n",
       "      <td>Plain Text</td>\n",
       "    </tr>\n",
       "    <tr>\n",
       "      <th>12</th>\n",
       "      <td>Vict Sex</td>\n",
       "      <td>F - Female M - Male X - Unknown</td>\n",
       "      <td>Plain Text</td>\n",
       "    </tr>\n",
       "    <tr>\n",
       "      <th>13</th>\n",
       "      <td>Vict Descent</td>\n",
       "      <td>Descent Code: A - Other Asian B - Black C - Chinese D - Cambodian F - Filipino G - Guamanian H - Hispanic/Latin/Mexican I - American Indian/Alaskan Native J - Japanese K - Korean L - Laotian O - Other P - Pacific Islander S - Samoan U - Hawaiian V - Vietnamese W - White X - Unknown Z - Asian Indian</td>\n",
       "      <td>Plain Text</td>\n",
       "    </tr>\n",
       "    <tr>\n",
       "      <th>14</th>\n",
       "      <td>Premis Cd</td>\n",
       "      <td>The type of structure, vehicle, or location where the crime took place.</td>\n",
       "      <td>Plain Text</td>\n",
       "    </tr>\n",
       "    <tr>\n",
       "      <th>15</th>\n",
       "      <td>Premis Desc</td>\n",
       "      <td>Defines the Premise Code provided.</td>\n",
       "      <td>Plain Text</td>\n",
       "    </tr>\n",
       "    <tr>\n",
       "      <th>16</th>\n",
       "      <td>Weapon Used Cd</td>\n",
       "      <td>The type of weapon used in the crime.</td>\n",
       "      <td>Plain Text</td>\n",
       "    </tr>\n",
       "    <tr>\n",
       "      <th>17</th>\n",
       "      <td>Weapon Desc</td>\n",
       "      <td>Defines the Weapon Used Code provided.</td>\n",
       "      <td>Plain Text</td>\n",
       "    </tr>\n",
       "    <tr>\n",
       "      <th>18</th>\n",
       "      <td>Status</td>\n",
       "      <td>Status of the case. (IC is the default)</td>\n",
       "      <td>Plain Text</td>\n",
       "    </tr>\n",
       "    <tr>\n",
       "      <th>19</th>\n",
       "      <td>Status Desc</td>\n",
       "      <td>Defines the Status Code provided.</td>\n",
       "      <td>Plain Text</td>\n",
       "    </tr>\n",
       "    <tr>\n",
       "      <th>20</th>\n",
       "      <td>Crm Cd 1</td>\n",
       "      <td>Indicates the crime committed. Crime Code 1 is the primary and most serious one. Crime Code 2, 3, and 4 are respectively less serious offenses. Lower crime class numbers are more serious.</td>\n",
       "      <td>Plain Text</td>\n",
       "    </tr>\n",
       "    <tr>\n",
       "      <th>21</th>\n",
       "      <td>Crm Cd 2</td>\n",
       "      <td>May contain a code for an additional crime, less serious than Crime Code 1.</td>\n",
       "      <td>Plain Text</td>\n",
       "    </tr>\n",
       "    <tr>\n",
       "      <th>22</th>\n",
       "      <td>Crm Cd 3</td>\n",
       "      <td>May contain a code for an additional crime, less serious than Crime Code 1.</td>\n",
       "      <td>Plain Text</td>\n",
       "    </tr>\n",
       "    <tr>\n",
       "      <th>23</th>\n",
       "      <td>Crm Cd 4</td>\n",
       "      <td>May contain a code for an additional crime, less serious than Crime Code 1.</td>\n",
       "      <td>Plain Text</td>\n",
       "    </tr>\n",
       "    <tr>\n",
       "      <th>24</th>\n",
       "      <td>LOCATION</td>\n",
       "      <td>Street address of crime incident rounded to the nearest hundred block to maintain anonymity.</td>\n",
       "      <td>Plain Text</td>\n",
       "    </tr>\n",
       "    <tr>\n",
       "      <th>25</th>\n",
       "      <td>Cross Street</td>\n",
       "      <td>Cross Street of rounded Address</td>\n",
       "      <td>Plain Text</td>\n",
       "    </tr>\n",
       "    <tr>\n",
       "      <th>26</th>\n",
       "      <td>LAT</td>\n",
       "      <td>Latitude</td>\n",
       "      <td>Number</td>\n",
       "    </tr>\n",
       "    <tr>\n",
       "      <th>27</th>\n",
       "      <td>LON</td>\n",
       "      <td>Longtitude</td>\n",
       "      <td>Number</td>\n",
       "    </tr>\n",
       "  </tbody>\n",
       "</table>"
      ],
      "text/plain": [
       "<IPython.core.display.HTML object>"
      ]
     },
     "metadata": {},
     "output_type": "display_data"
    }
   ],
   "source": [
    "# Load Data Description file into pandas dataframe\n",
    "data_desc = pd.read_csv('Data/Data_Description.csv')\n",
    "\n",
    "from IPython.display import display, HTML\n",
    "\n",
    "display(HTML(data_desc.to_html()))"
   ]
  },
  {
   "cell_type": "markdown",
   "metadata": {},
   "source": [
    "# Data Quality\n",
    "#### [15 points] Verify data quality: Explain any missing values, duplicate data, and outliers. Are those mistakes? How do you deal with these problems? Be specific."
   ]
  },
  {
   "cell_type": "markdown",
   "metadata": {},
   "source": [
    "### Exploring the Dataset"
   ]
  },
  {
   "cell_type": "code",
   "execution_count": 8,
   "metadata": {},
   "outputs": [
    {
     "data": {
      "text/html": [
       "<div>\n",
       "<style scoped>\n",
       "    .dataframe tbody tr th:only-of-type {\n",
       "        vertical-align: middle;\n",
       "    }\n",
       "\n",
       "    .dataframe tbody tr th {\n",
       "        vertical-align: top;\n",
       "    }\n",
       "\n",
       "    .dataframe thead th {\n",
       "        text-align: right;\n",
       "    }\n",
       "</style>\n",
       "<table border=\"1\" class=\"dataframe\">\n",
       "  <thead>\n",
       "    <tr style=\"text-align: right;\">\n",
       "      <th></th>\n",
       "      <th>DR_NO</th>\n",
       "      <th>Date Rptd</th>\n",
       "      <th>DATE OCC</th>\n",
       "      <th>TIME OCC</th>\n",
       "      <th>AREA</th>\n",
       "      <th>AREA NAME</th>\n",
       "      <th>Rpt Dist No</th>\n",
       "      <th>Part 1-2</th>\n",
       "      <th>Crm Cd</th>\n",
       "      <th>Crm Cd Desc</th>\n",
       "      <th>...</th>\n",
       "      <th>Status</th>\n",
       "      <th>Status Desc</th>\n",
       "      <th>Crm Cd 1</th>\n",
       "      <th>Crm Cd 2</th>\n",
       "      <th>Crm Cd 3</th>\n",
       "      <th>Crm Cd 4</th>\n",
       "      <th>LOCATION</th>\n",
       "      <th>Cross Street</th>\n",
       "      <th>LAT</th>\n",
       "      <th>LON</th>\n",
       "    </tr>\n",
       "  </thead>\n",
       "  <tbody>\n",
       "    <tr>\n",
       "      <th>0</th>\n",
       "      <td>1307355</td>\n",
       "      <td>02/20/2010 12:00:00 AM</td>\n",
       "      <td>02/20/2010 12:00:00 AM</td>\n",
       "      <td>1350</td>\n",
       "      <td>13</td>\n",
       "      <td>Newton</td>\n",
       "      <td>1385</td>\n",
       "      <td>2</td>\n",
       "      <td>900</td>\n",
       "      <td>VIOLATION OF COURT ORDER</td>\n",
       "      <td>...</td>\n",
       "      <td>AA</td>\n",
       "      <td>Adult Arrest</td>\n",
       "      <td>900.0</td>\n",
       "      <td>NaN</td>\n",
       "      <td>NaN</td>\n",
       "      <td>NaN</td>\n",
       "      <td>300 E  GAGE                         AV</td>\n",
       "      <td>NaN</td>\n",
       "      <td>33.9825</td>\n",
       "      <td>-118.2695</td>\n",
       "    </tr>\n",
       "    <tr>\n",
       "      <th>1</th>\n",
       "      <td>11401303</td>\n",
       "      <td>09/13/2010 12:00:00 AM</td>\n",
       "      <td>09/12/2010 12:00:00 AM</td>\n",
       "      <td>45</td>\n",
       "      <td>14</td>\n",
       "      <td>Pacific</td>\n",
       "      <td>1485</td>\n",
       "      <td>2</td>\n",
       "      <td>740</td>\n",
       "      <td>VANDALISM - FELONY ($400 &amp; OVER, ALL CHURCH VA...</td>\n",
       "      <td>...</td>\n",
       "      <td>IC</td>\n",
       "      <td>Invest Cont</td>\n",
       "      <td>740.0</td>\n",
       "      <td>NaN</td>\n",
       "      <td>NaN</td>\n",
       "      <td>NaN</td>\n",
       "      <td>SEPULVEDA                    BL</td>\n",
       "      <td>MANCHESTER                   AV</td>\n",
       "      <td>33.9599</td>\n",
       "      <td>-118.3962</td>\n",
       "    </tr>\n",
       "  </tbody>\n",
       "</table>\n",
       "<p>2 rows × 28 columns</p>\n",
       "</div>"
      ],
      "text/plain": [
       "      DR_NO               Date Rptd                DATE OCC  TIME OCC  AREA   \\\n",
       "0   1307355  02/20/2010 12:00:00 AM  02/20/2010 12:00:00 AM      1350     13   \n",
       "1  11401303  09/13/2010 12:00:00 AM  09/12/2010 12:00:00 AM        45     14   \n",
       "\n",
       "  AREA NAME  Rpt Dist No  Part 1-2  Crm Cd  \\\n",
       "0    Newton         1385         2     900   \n",
       "1   Pacific         1485         2     740   \n",
       "\n",
       "                                         Crm Cd Desc  ... Status  \\\n",
       "0                           VIOLATION OF COURT ORDER  ...     AA   \n",
       "1  VANDALISM - FELONY ($400 & OVER, ALL CHURCH VA...  ...     IC   \n",
       "\n",
       "    Status Desc Crm Cd 1 Crm Cd 2  Crm Cd 3 Crm Cd 4  \\\n",
       "0  Adult Arrest    900.0      NaN       NaN      NaN   \n",
       "1   Invest Cont    740.0      NaN       NaN      NaN   \n",
       "\n",
       "                                 LOCATION                     Cross Street  \\\n",
       "0  300 E  GAGE                         AV                              NaN   \n",
       "1         SEPULVEDA                    BL  MANCHESTER                   AV   \n",
       "\n",
       "       LAT       LON  \n",
       "0  33.9825 -118.2695  \n",
       "1  33.9599 -118.3962  \n",
       "\n",
       "[2 rows x 28 columns]"
      ]
     },
     "execution_count": 8,
     "metadata": {},
     "output_type": "execute_result"
    }
   ],
   "source": [
    "# Displaying the first 2 lines of the dataframe\n",
    "\n",
    "df.head(2)"
   ]
  },
  {
   "cell_type": "code",
   "execution_count": 7,
   "metadata": {},
   "outputs": [
    {
     "data": {
      "text/html": [
       "<div>\n",
       "<style scoped>\n",
       "    .dataframe tbody tr th:only-of-type {\n",
       "        vertical-align: middle;\n",
       "    }\n",
       "\n",
       "    .dataframe tbody tr th {\n",
       "        vertical-align: top;\n",
       "    }\n",
       "\n",
       "    .dataframe thead th {\n",
       "        text-align: right;\n",
       "    }\n",
       "</style>\n",
       "<table border=\"1\" class=\"dataframe\">\n",
       "  <thead>\n",
       "    <tr style=\"text-align: right;\">\n",
       "      <th></th>\n",
       "      <th>DR_NO</th>\n",
       "      <th>TIME OCC</th>\n",
       "      <th>AREA</th>\n",
       "      <th>Rpt Dist No</th>\n",
       "      <th>Part 1-2</th>\n",
       "      <th>Crm Cd</th>\n",
       "      <th>Vict Age</th>\n",
       "      <th>Premis Cd</th>\n",
       "      <th>Weapon Used Cd</th>\n",
       "      <th>Crm Cd 1</th>\n",
       "      <th>Crm Cd 2</th>\n",
       "      <th>Crm Cd 3</th>\n",
       "      <th>Crm Cd 4</th>\n",
       "      <th>LAT</th>\n",
       "      <th>LON</th>\n",
       "    </tr>\n",
       "  </thead>\n",
       "  <tbody>\n",
       "    <tr>\n",
       "      <th>count</th>\n",
       "      <td>2.115333e+06</td>\n",
       "      <td>2.115333e+06</td>\n",
       "      <td>2.115333e+06</td>\n",
       "      <td>2.115333e+06</td>\n",
       "      <td>2.115333e+06</td>\n",
       "      <td>2.115333e+06</td>\n",
       "      <td>2.115333e+06</td>\n",
       "      <td>2.115280e+06</td>\n",
       "      <td>710470.000000</td>\n",
       "      <td>2.115323e+06</td>\n",
       "      <td>139402.000000</td>\n",
       "      <td>3499.000000</td>\n",
       "      <td>104.000000</td>\n",
       "      <td>2.115333e+06</td>\n",
       "      <td>2.115333e+06</td>\n",
       "    </tr>\n",
       "    <tr>\n",
       "      <th>mean</th>\n",
       "      <td>1.479209e+08</td>\n",
       "      <td>1.359865e+03</td>\n",
       "      <td>1.108682e+01</td>\n",
       "      <td>1.155070e+03</td>\n",
       "      <td>1.446029e+00</td>\n",
       "      <td>5.073349e+02</td>\n",
       "      <td>3.176409e+01</td>\n",
       "      <td>3.111814e+02</td>\n",
       "      <td>371.371934</td>\n",
       "      <td>5.071590e+02</td>\n",
       "      <td>949.996428</td>\n",
       "      <td>972.210346</td>\n",
       "      <td>975.105769</td>\n",
       "      <td>3.406377e+01</td>\n",
       "      <td>-1.183088e+02</td>\n",
       "    </tr>\n",
       "    <tr>\n",
       "      <th>std</th>\n",
       "      <td>2.887068e+07</td>\n",
       "      <td>6.470967e+02</td>\n",
       "      <td>6.012440e+00</td>\n",
       "      <td>6.012589e+02</td>\n",
       "      <td>4.970787e-01</td>\n",
       "      <td>2.106272e+02</td>\n",
       "      <td>2.064750e+01</td>\n",
       "      <td>2.113121e+02</td>\n",
       "      <td>113.469024</td>\n",
       "      <td>2.104900e+02</td>\n",
       "      <td>125.680743</td>\n",
       "      <td>85.516627</td>\n",
       "      <td>81.276338</td>\n",
       "      <td>7.115120e-01</td>\n",
       "      <td>2.440446e+00</td>\n",
       "    </tr>\n",
       "    <tr>\n",
       "      <th>min</th>\n",
       "      <td>1.208575e+06</td>\n",
       "      <td>1.000000e+00</td>\n",
       "      <td>1.000000e+00</td>\n",
       "      <td>1.000000e+02</td>\n",
       "      <td>1.000000e+00</td>\n",
       "      <td>1.100000e+02</td>\n",
       "      <td>-9.000000e+00</td>\n",
       "      <td>1.010000e+02</td>\n",
       "      <td>101.000000</td>\n",
       "      <td>1.100000e+02</td>\n",
       "      <td>210.000000</td>\n",
       "      <td>93.000000</td>\n",
       "      <td>421.000000</td>\n",
       "      <td>0.000000e+00</td>\n",
       "      <td>-1.188279e+02</td>\n",
       "    </tr>\n",
       "    <tr>\n",
       "      <th>25%</th>\n",
       "      <td>1.214242e+08</td>\n",
       "      <td>9.300000e+02</td>\n",
       "      <td>6.000000e+00</td>\n",
       "      <td>6.430000e+02</td>\n",
       "      <td>1.000000e+00</td>\n",
       "      <td>3.300000e+02</td>\n",
       "      <td>2.000000e+01</td>\n",
       "      <td>1.020000e+02</td>\n",
       "      <td>400.000000</td>\n",
       "      <td>3.300000e+02</td>\n",
       "      <td>998.000000</td>\n",
       "      <td>998.000000</td>\n",
       "      <td>998.000000</td>\n",
       "      <td>3.401050e+01</td>\n",
       "      <td>-1.184364e+02</td>\n",
       "    </tr>\n",
       "    <tr>\n",
       "      <th>50%</th>\n",
       "      <td>1.508087e+08</td>\n",
       "      <td>1.430000e+03</td>\n",
       "      <td>1.100000e+01</td>\n",
       "      <td>1.189000e+03</td>\n",
       "      <td>1.000000e+00</td>\n",
       "      <td>4.420000e+02</td>\n",
       "      <td>3.200000e+01</td>\n",
       "      <td>2.100000e+02</td>\n",
       "      <td>400.000000</td>\n",
       "      <td>4.420000e+02</td>\n",
       "      <td>998.000000</td>\n",
       "      <td>998.000000</td>\n",
       "      <td>998.000000</td>\n",
       "      <td>3.406230e+01</td>\n",
       "      <td>-1.183295e+02</td>\n",
       "    </tr>\n",
       "    <tr>\n",
       "      <th>75%</th>\n",
       "      <td>1.715119e+08</td>\n",
       "      <td>1.900000e+03</td>\n",
       "      <td>1.600000e+01</td>\n",
       "      <td>1.668000e+03</td>\n",
       "      <td>2.000000e+00</td>\n",
       "      <td>6.260000e+02</td>\n",
       "      <td>4.600000e+01</td>\n",
       "      <td>5.010000e+02</td>\n",
       "      <td>400.000000</td>\n",
       "      <td>6.260000e+02</td>\n",
       "      <td>998.000000</td>\n",
       "      <td>998.000000</td>\n",
       "      <td>998.000000</td>\n",
       "      <td>3.417580e+01</td>\n",
       "      <td>-1.182778e+02</td>\n",
       "    </tr>\n",
       "    <tr>\n",
       "      <th>max</th>\n",
       "      <td>9.102204e+08</td>\n",
       "      <td>2.359000e+03</td>\n",
       "      <td>2.100000e+01</td>\n",
       "      <td>2.199000e+03</td>\n",
       "      <td>2.000000e+00</td>\n",
       "      <td>9.560000e+02</td>\n",
       "      <td>1.180000e+02</td>\n",
       "      <td>9.710000e+02</td>\n",
       "      <td>516.000000</td>\n",
       "      <td>9.990000e+02</td>\n",
       "      <td>999.000000</td>\n",
       "      <td>999.000000</td>\n",
       "      <td>999.000000</td>\n",
       "      <td>3.479070e+01</td>\n",
       "      <td>0.000000e+00</td>\n",
       "    </tr>\n",
       "  </tbody>\n",
       "</table>\n",
       "</div>"
      ],
      "text/plain": [
       "              DR_NO      TIME OCC         AREA    Rpt Dist No      Part 1-2  \\\n",
       "count  2.115333e+06  2.115333e+06  2.115333e+06  2.115333e+06  2.115333e+06   \n",
       "mean   1.479209e+08  1.359865e+03  1.108682e+01  1.155070e+03  1.446029e+00   \n",
       "std    2.887068e+07  6.470967e+02  6.012440e+00  6.012589e+02  4.970787e-01   \n",
       "min    1.208575e+06  1.000000e+00  1.000000e+00  1.000000e+02  1.000000e+00   \n",
       "25%    1.214242e+08  9.300000e+02  6.000000e+00  6.430000e+02  1.000000e+00   \n",
       "50%    1.508087e+08  1.430000e+03  1.100000e+01  1.189000e+03  1.000000e+00   \n",
       "75%    1.715119e+08  1.900000e+03  1.600000e+01  1.668000e+03  2.000000e+00   \n",
       "max    9.102204e+08  2.359000e+03  2.100000e+01  2.199000e+03  2.000000e+00   \n",
       "\n",
       "             Crm Cd      Vict Age     Premis Cd  Weapon Used Cd      Crm Cd 1  \\\n",
       "count  2.115333e+06  2.115333e+06  2.115280e+06   710470.000000  2.115323e+06   \n",
       "mean   5.073349e+02  3.176409e+01  3.111814e+02      371.371934  5.071590e+02   \n",
       "std    2.106272e+02  2.064750e+01  2.113121e+02      113.469024  2.104900e+02   \n",
       "min    1.100000e+02 -9.000000e+00  1.010000e+02      101.000000  1.100000e+02   \n",
       "25%    3.300000e+02  2.000000e+01  1.020000e+02      400.000000  3.300000e+02   \n",
       "50%    4.420000e+02  3.200000e+01  2.100000e+02      400.000000  4.420000e+02   \n",
       "75%    6.260000e+02  4.600000e+01  5.010000e+02      400.000000  6.260000e+02   \n",
       "max    9.560000e+02  1.180000e+02  9.710000e+02      516.000000  9.990000e+02   \n",
       "\n",
       "            Crm Cd 2     Crm Cd 3    Crm Cd 4           LAT           LON  \n",
       "count  139402.000000  3499.000000  104.000000  2.115333e+06  2.115333e+06  \n",
       "mean      949.996428   972.210346  975.105769  3.406377e+01 -1.183088e+02  \n",
       "std       125.680743    85.516627   81.276338  7.115120e-01  2.440446e+00  \n",
       "min       210.000000    93.000000  421.000000  0.000000e+00 -1.188279e+02  \n",
       "25%       998.000000   998.000000  998.000000  3.401050e+01 -1.184364e+02  \n",
       "50%       998.000000   998.000000  998.000000  3.406230e+01 -1.183295e+02  \n",
       "75%       998.000000   998.000000  998.000000  3.417580e+01 -1.182778e+02  \n",
       "max       999.000000   999.000000  999.000000  3.479070e+01  0.000000e+00  "
      ]
     },
     "execution_count": 7,
     "metadata": {},
     "output_type": "execute_result"
    }
   ],
   "source": [
    "# Summary of attributes in the dataframe\n",
    "\n",
    "df.describe()"
   ]
  },
  {
   "cell_type": "markdown",
   "metadata": {},
   "source": [
    "#### Exploring Column: Vict Descent"
   ]
  },
  {
   "cell_type": "code",
   "execution_count": 9,
   "metadata": {},
   "outputs": [
    {
     "name": "stdout",
     "output_type": "stream",
     "text": [
      "Missing values in the Column 'Vict Descent' are: 196726\n"
     ]
    }
   ],
   "source": [
    "# Display missing values in the Column \"Vict Descent\"\n",
    "\n",
    "print(\"Missing values in the Column 'Vict Descent' are: \" + str(df['Vict Descent'].isnull().sum()))"
   ]
  },
  {
   "cell_type": "code",
   "execution_count": 8,
   "metadata": {},
   "outputs": [
    {
     "name": "stdout",
     "output_type": "stream",
     "text": [
      "\n",
      "Number of victims grouped by their descent are as below:\n"
     ]
    },
    {
     "data": {
      "text/plain": [
       "Vict Descent\n",
       "-         3\n",
       "A     51128\n",
       "B    335200\n",
       "C      1063\n",
       "D        23\n",
       "F      2558\n",
       "G        85\n",
       "H    725576\n",
       "I       945\n",
       "J       418\n",
       "K      9151\n",
       "L        18\n",
       "O    203029\n",
       "P       343\n",
       "S        31\n",
       "U       190\n",
       "V       201\n",
       "W    510333\n",
       "X     78176\n",
       "Z       136\n",
       "dtype: int64"
      ]
     },
     "execution_count": 8,
     "metadata": {},
     "output_type": "execute_result"
    }
   ],
   "source": [
    "# Display number of victims grouped by their descent\n",
    "# Descent Code:\n",
    "# A: Other Asian, B: Black, C: Chinese, D: Cambodian, F: Filipino, G: Guamanian, H: Hispanic/Latin/Mexican, \n",
    "# I: American Indian/Alaskan Native, J: Japanese, K: Korean, L: Laotian, O: Other, P: Pacific Islander, \n",
    "# S: Samoan, U: Hawaiian, V: Vietnamese, W: White, X: Unknown, Z: Asian Indian\n",
    "\n",
    "print()\n",
    "print(\"Number of victims grouped by their descent are as below:\")\n",
    "df.groupby('Vict Descent').size()"
   ]
  },
  {
   "cell_type": "markdown",
   "metadata": {},
   "source": [
    "Based on the outputs above we have the following observations for the 'Vict Descent' column:\n",
    "- There are 3 records which do not have a valid Descent code. Those records are indicated by a hypen '-'. Choosing Descent Code 'X' (Unknown) for these records would be appropriate.\n",
    "- There are 196726 records which are blank. These blank records are associated with Crime Code Descriptions such as \"THEFT OF IDENTITY\", \"VEHICLE - STOLEN\" etc. Hence, choosing Descent Code 'X' (Unknown) for these blank records would be appropriate.\n",
    "\n",
    "Based on further analysis by looking at a random selection of records it is concluded that these could have been **data entry errors**. Hence, we can replace those records with Descent Code 'X', which is for Unknown category."
   ]
  },
  {
   "cell_type": "markdown",
   "metadata": {},
   "source": [
    "#### Imputation on Column: Vict Descent"
   ]
  },
  {
   "cell_type": "code",
   "execution_count": 10,
   "metadata": {},
   "outputs": [],
   "source": [
    "# Replace records in the 'Vict Descent' column having '-' with 'X'\n",
    "\n",
    "df['Vict Descent'] = df['Vict Descent'].replace(to_replace='-',value='X')"
   ]
  },
  {
   "cell_type": "code",
   "execution_count": 11,
   "metadata": {},
   "outputs": [],
   "source": [
    "# Replace records in the 'Vict Descent' column having blanks with 'X'\n",
    "\n",
    "df['Vict Descent'].fillna('X', inplace = True) "
   ]
  },
  {
   "cell_type": "markdown",
   "metadata": {},
   "source": [
    "#### Post-Imputation on Column: Vict Descent"
   ]
  },
  {
   "cell_type": "code",
   "execution_count": 12,
   "metadata": {},
   "outputs": [
    {
     "name": "stdout",
     "output_type": "stream",
     "text": [
      "Missing values in the Column 'Vict Descent' are: 0\n",
      "\n",
      "Number of victims grouped by their descent are as below:\n"
     ]
    },
    {
     "data": {
      "text/plain": [
       "Vict Descent\n",
       "A     51128\n",
       "B    335200\n",
       "C      1063\n",
       "D        23\n",
       "F      2558\n",
       "G        85\n",
       "H    725576\n",
       "I       945\n",
       "J       418\n",
       "K      9151\n",
       "L        18\n",
       "O    203029\n",
       "P       343\n",
       "S        31\n",
       "U       190\n",
       "V       201\n",
       "W    510333\n",
       "X    274905\n",
       "Z       136\n",
       "dtype: int64"
      ]
     },
     "execution_count": 12,
     "metadata": {},
     "output_type": "execute_result"
    }
   ],
   "source": [
    "# Display missing values in the Column \"Vict Descent\" and also display the number of victims grouped by their descent\n",
    "\n",
    "print(\"Missing values in the Column 'Vict Descent' are: \" + str(df['Vict Descent'].isnull().sum()))\n",
    "print()\n",
    "print(\"Number of victims grouped by their descent are as below:\")\n",
    "df.groupby('Vict Descent').size()"
   ]
  },
  {
   "cell_type": "markdown",
   "metadata": {},
   "source": [
    "As seen in the output above, the Vict Descent category 'X' now has **274905** records."
   ]
  },
  {
   "cell_type": "markdown",
   "metadata": {},
   "source": [
    "#### Exploring Column: Vict Sex"
   ]
  },
  {
   "cell_type": "code",
   "execution_count": 13,
   "metadata": {},
   "outputs": [
    {
     "name": "stdout",
     "output_type": "stream",
     "text": [
      "Missing values in the Column 'Vict Sex' are: 196680\n"
     ]
    }
   ],
   "source": [
    "# Display missing values in the Column \"Vict Sex\"\n",
    "\n",
    "print(\"Missing values in the Column 'Vict Sex' are: \" + str(df['Vict Sex'].isnull().sum()))"
   ]
  },
  {
   "cell_type": "code",
   "execution_count": 14,
   "metadata": {},
   "outputs": [
    {
     "name": "stdout",
     "output_type": "stream",
     "text": [
      "\n",
      "Number of victims grouped by their Sex are as below:\n"
     ]
    },
    {
     "data": {
      "text/plain": [
       "Vict Sex\n",
       "-         1\n",
       "F    888881\n",
       "H        73\n",
       "M    974525\n",
       "N        17\n",
       "X     55156\n",
       "dtype: int64"
      ]
     },
     "execution_count": 14,
     "metadata": {},
     "output_type": "execute_result"
    }
   ],
   "source": [
    "# Display number of victims grouped by their Sex\n",
    "# Sex Code:\n",
    "# F: Female, M: Male, X: Unknown\n",
    "\n",
    "print()\n",
    "print(\"Number of victims grouped by their Sex are as below:\")\n",
    "df.groupby('Vict Sex').size()"
   ]
  },
  {
   "cell_type": "markdown",
   "metadata": {},
   "source": [
    "Based on the outputs above we have the following observations for the 'Vict Sex' column:\n",
    "- There are 196680 records which are blank. These blank records are associated with Crime Code Descriptions such as \"THEFT OF IDENTITY\", \"VEHICLE - STOLEN\" etc. Hence, choosing Sex Code 'X' (Unknown) for these blank records would be appropriate.\n",
    "- There is 1 record which does not have a valid Sex code. This record is indicated by a hypen '-'. Choosing Sex Code 'X' (Unknown) for the record would be appropriate.\n",
    "- There are 73 records with an invalid code 'H' and 17 records with an invalid code 'N'. Choosing Sex Code 'X' (Unknown) for these records would be appropriate.\n",
    "\n",
    "Based on further analysis by looking at a random selection of records it is concluded that these could have been **data entry errors**. Hence, we can replace those records with Sex Code 'X', which is for Unknown category."
   ]
  },
  {
   "cell_type": "markdown",
   "metadata": {},
   "source": [
    "#### Imputation on Column: Vict Sex"
   ]
  },
  {
   "cell_type": "code",
   "execution_count": 15,
   "metadata": {},
   "outputs": [],
   "source": [
    "# Replace records in the 'Vict Sex' column having '-' with 'X'\n",
    "\n",
    "df['Vict Sex'] = df['Vict Sex'].replace(to_replace='-',value='X')"
   ]
  },
  {
   "cell_type": "code",
   "execution_count": 16,
   "metadata": {},
   "outputs": [],
   "source": [
    "# Replace records in the 'Vict Sex' column having 'H' with 'X'\n",
    "\n",
    "df['Vict Sex'] = df['Vict Sex'].replace(to_replace='H',value='X')"
   ]
  },
  {
   "cell_type": "code",
   "execution_count": 17,
   "metadata": {},
   "outputs": [],
   "source": [
    "# Replace records in the 'Vict Sex' column having 'N' with 'X'\n",
    "\n",
    "df['Vict Sex'] = df['Vict Sex'].replace(to_replace='N',value='X')"
   ]
  },
  {
   "cell_type": "code",
   "execution_count": 18,
   "metadata": {},
   "outputs": [],
   "source": [
    "# Replace records in the 'Vict Sex' column having blanks with 'X'\n",
    "\n",
    "df['Vict Sex'].fillna('X', inplace = True) "
   ]
  },
  {
   "cell_type": "markdown",
   "metadata": {},
   "source": [
    "#### Post-Imputation on Column: Vict Sex"
   ]
  },
  {
   "cell_type": "code",
   "execution_count": 19,
   "metadata": {},
   "outputs": [
    {
     "name": "stdout",
     "output_type": "stream",
     "text": [
      "Missing values in the Column 'Vict Sex' are: 0\n",
      "\n",
      "Number of victims grouped by their Sex are as below:\n"
     ]
    },
    {
     "data": {
      "text/plain": [
       "Vict Sex\n",
       "F    888881\n",
       "M    974525\n",
       "X    251927\n",
       "dtype: int64"
      ]
     },
     "execution_count": 19,
     "metadata": {},
     "output_type": "execute_result"
    }
   ],
   "source": [
    "# Display missing values in the Column \"Vict Sex\" and also display the number of victims grouped by their Sex\n",
    "\n",
    "print(\"Missing values in the Column 'Vict Sex' are: \" + str(df['Vict Sex'].isnull().sum()))\n",
    "print()\n",
    "print(\"Number of victims grouped by their Sex are as below:\")\n",
    "df.groupby('Vict Sex').size()"
   ]
  },
  {
   "cell_type": "markdown",
   "metadata": {},
   "source": [
    "As seen in the output above, the Vict Sex category 'X' now has **251927** records."
   ]
  },
  {
   "cell_type": "markdown",
   "metadata": {},
   "source": [
    "#### Exploring Column: Vict Age"
   ]
  },
  {
   "cell_type": "code",
   "execution_count": 20,
   "metadata": {},
   "outputs": [
    {
     "name": "stdout",
     "output_type": "stream",
     "text": [
      "Missing values in the Column 'Vict Age' are: 0\n"
     ]
    }
   ],
   "source": [
    "# Display missing values in the Column \"Vict Age\"\n",
    "\n",
    "print(\"Missing values in the Column 'Vict Age' are: \" + str(df['Vict Age'].isnull().sum()))"
   ]
  },
  {
   "cell_type": "code",
   "execution_count": 21,
   "metadata": {},
   "outputs": [
    {
     "name": "stdout",
     "output_type": "stream",
     "text": [
      "\n",
      "Number of victims grouped by their Age are as below:\n"
     ]
    },
    {
     "data": {
      "text/plain": [
       "Vict Age\n",
       "-9        6\n",
       "-8        9\n",
       "-7       15\n",
       "-6       20\n",
       "-5       27\n",
       "       ... \n",
       " 97     168\n",
       " 98     118\n",
       " 99     809\n",
       " 114      1\n",
       " 118      1\n",
       "Length: 110, dtype: int64"
      ]
     },
     "execution_count": 21,
     "metadata": {},
     "output_type": "execute_result"
    }
   ],
   "source": [
    "# Display number of victims grouped by their Age\n",
    "\n",
    "print()\n",
    "print(\"Number of victims grouped by their Age are as below:\")\n",
    "df.groupby('Vict Age').size()"
   ]
  },
  {
   "cell_type": "code",
   "execution_count": 22,
   "metadata": {},
   "outputs": [
    {
     "name": "stdout",
     "output_type": "stream",
     "text": [
      "\n",
      "Number of victims grouped by their Age, where Age value is less than or equal to zero, are as below:\n"
     ]
    },
    {
     "data": {
      "text/plain": [
       "Vict Age\n",
       "-9         6\n",
       "-8         9\n",
       "-7        15\n",
       "-6        20\n",
       "-5        27\n",
       "-4        35\n",
       "-3        84\n",
       "-2       129\n",
       "-1       277\n",
       " 0    369925\n",
       "dtype: int64"
      ]
     },
     "execution_count": 22,
     "metadata": {},
     "output_type": "execute_result"
    }
   ],
   "source": [
    "# Display number of victims grouped by their Age, where Age value is less than or equal to zero\n",
    "\n",
    "print()\n",
    "print(\"Number of victims grouped by their Age, where Age value is less than or equal to zero, are as below:\")\n",
    "df[df['Vict Age']<=0].groupby('Vict Age').size()"
   ]
  },
  {
   "cell_type": "code",
   "execution_count": 49,
   "metadata": {
    "scrolled": true
   },
   "outputs": [
    {
     "name": "stdout",
     "output_type": "stream",
     "text": [
      "\n",
      "Total number of records with invalid age values are: 370527\n"
     ]
    }
   ],
   "source": [
    "# Display total number of records with invalid age values\n",
    "# Age values zero and less are considered invalid age values\n",
    "\n",
    "print()\n",
    "print(\"Total number of records with invalid age values are: \" + str( df[df['Vict Age']<=0]['Vict Age'].count() ))"
   ]
  },
  {
   "cell_type": "code",
   "execution_count": 23,
   "metadata": {},
   "outputs": [
    {
     "name": "stdout",
     "output_type": "stream",
     "text": [
      "\n",
      "Number of victims grouped by their Age, where Age value is greater than or equal to 100, are as below:\n"
     ]
    },
    {
     "data": {
      "text/plain": [
       "Vict Age\n",
       "114    1\n",
       "118    1\n",
       "dtype: int64"
      ]
     },
     "execution_count": 23,
     "metadata": {},
     "output_type": "execute_result"
    }
   ],
   "source": [
    "# Display number of victims grouped by their Age, where Age value is greater than or equal to 100\n",
    "\n",
    "print()\n",
    "print(\"Number of victims grouped by their Age, where Age value is greater than or equal to 100, are as below:\")\n",
    "df[df['Vict Age']>=100].groupby('Vict Age').size()"
   ]
  },
  {
   "cell_type": "code",
   "execution_count": 24,
   "metadata": {},
   "outputs": [
    {
     "name": "stdout",
     "output_type": "stream",
     "text": [
      "\n",
      "Overall median victim age value in this data set is: 32.0\n"
     ]
    }
   ],
   "source": [
    "# Display overall median victim age value\n",
    "\n",
    "print()\n",
    "print(\"Overall median victim age value in this data set is: \" + str( df['Vict Age'].median() ))"
   ]
  },
  {
   "cell_type": "code",
   "execution_count": 25,
   "metadata": {},
   "outputs": [
    {
     "name": "stdout",
     "output_type": "stream",
     "text": [
      "\n",
      "Median victim age value of children (>0 & <18) in this data set is: 14.0\n"
     ]
    }
   ],
   "source": [
    "# Display median victim age value of children (>0 & <18)\n",
    "\n",
    "print()\n",
    "print(\"Median victim age value of children (>0 & <18) in this data set is: \" + \n",
    "      str( df[(df['Vict Age']>0) & (df['Vict Age']<18)]['Vict Age'].median() ))"
   ]
  },
  {
   "cell_type": "code",
   "execution_count": 45,
   "metadata": {},
   "outputs": [
    {
     "data": {
      "text/plain": [
       "Crm Cd Desc\n",
       "CHILD ABANDONMENT                                30\n",
       "CHILD ABUSE (PHYSICAL) - AGGRAVATED ASSAULT     330\n",
       "CHILD ABUSE (PHYSICAL) - SIMPLE ASSAULT         383\n",
       "CHILD ANNOYING (17YRS & UNDER)                   67\n",
       "CHILD NEGLECT (SEE 300 W.I.C.)                 1102\n",
       "CHILD PORNOGRAPHY                                16\n",
       "CHILD STEALING                                   83\n",
       "LEWD/LASCIVIOUS ACTS WITH CHILD                   5\n",
       "dtype: int64"
      ]
     },
     "execution_count": 45,
     "metadata": {},
     "output_type": "execute_result"
    }
   ],
   "source": [
    "# Display number of records grouped by 'Crime Code Description' categories that \n",
    "# contain the word \"CHILD\" and with invalid age value less than or equal to zero\n",
    "\n",
    "df[ (df['Crm Cd Desc'].str.contains(\"CHILD\")) & (df['Vict Age']<=0) ].groupby('Crm Cd Desc').size()"
   ]
  },
  {
   "cell_type": "code",
   "execution_count": 47,
   "metadata": {},
   "outputs": [
    {
     "data": {
      "text/plain": [
       "Vict Age\n",
       "-3       2\n",
       "-2       1\n",
       "-1       5\n",
       " 0    2008\n",
       "dtype: int64"
      ]
     },
     "execution_count": 47,
     "metadata": {},
     "output_type": "execute_result"
    }
   ],
   "source": [
    "# Display number of records grouped by 'Vict Age' that \n",
    "# contain the word \"CHILD\" and with invalid age value less than or equal to zero\n",
    "\n",
    "df[ (df['Crm Cd Desc'].str.contains(\"CHILD\")) & (df['Vict Age']<=0) ].groupby('Vict Age').size()"
   ]
  },
  {
   "cell_type": "code",
   "execution_count": 55,
   "metadata": {},
   "outputs": [
    {
     "name": "stdout",
     "output_type": "stream",
     "text": [
      "Total number of records that contain the word 'CHILD' in the Crime Code Desc and have an invalid age value less than or equal to zero are: 2016\n"
     ]
    }
   ],
   "source": [
    "# Display total number of records that contain the word \"CHILD\" in the Crime Code Desc and \n",
    "# have an invalid age value less than or equal to zero\n",
    "\n",
    "temp = df[ (df['Crm Cd Desc'].str.contains(\"CHILD\")) & (df['Vict Age']<=0) ]['Vict Age'].count()\n",
    "print(\"Total number of records that contain the word 'CHILD' in the Crime Code Desc and have an invalid age value less than or equal to zero are: \" + str(temp))"
   ]
  },
  {
   "cell_type": "markdown",
   "metadata": {},
   "source": [
    "Based on the outputs above we have the following observations for the 'Vict Age' column:\n",
    "- There are zero records which are blank.\n",
    "- There are 2 records where the age value is greater than 100. These can be considered as **outliers**. Since the number of records associated with these outliers are very small, we have concluded not to perform any imputations on these records.\n",
    "- There are 370527 records with invalid age values, of which 2016 records contain the word 'CHILD' in the Crime Code Description.\n",
    "- Overall median victim age value in this data set is: 32.0.\n",
    "- Median victim age value of children (>0 & <18) in this data set is: 14.0.\n",
    "\n",
    "Based on further analysis by looking at a random selection of records it is concluded that these invalid age values could have been **data entry errors**.\n",
    "\n",
    "Hence, we have concluded to perfom imputations as below:\n",
    "- For the records that contain the word 'CHILD' in the Crime Code Desc and have an invalid age value less than or equal to zero, we would replace the invalid age with the **Median victim age value for children which is 14**.\n",
    "- For the remaining records that have an invalid age value less than or equal to zero, we would replace the invalid age with the **Overall median victim age value which is 32**."
   ]
  },
  {
   "cell_type": "markdown",
   "metadata": {},
   "source": [
    "#### Imputation on Column: Vict Age"
   ]
  },
  {
   "cell_type": "code",
   "execution_count": 75,
   "metadata": {},
   "outputs": [],
   "source": [
    "# Replace records that contain the word 'CHILD' in the Crime Code Desc and\n",
    "# have an invalid age value less than or equal to zero, with\n",
    "# the Median victim age value for children which is 14.\n",
    "# As seen in the outputs above, for this particular category the invalid age values are [0, -1, -2, -3]\n",
    "\n",
    "temp = df[ (df['Crm Cd Desc'].str.contains(\"CHILD\")) & (df['Vict Age']<=0) ]['Vict Age']\n",
    "temp = temp.replace(to_replace=[0, -1, -2, -3],value=14)\n",
    "\n",
    "df.loc[ ( (df['Crm Cd Desc'].str.contains(\"CHILD\")) & (df['Vict Age']<=0) ), 'Vict Age'] = temp"
   ]
  },
  {
   "cell_type": "code",
   "execution_count": 82,
   "metadata": {},
   "outputs": [],
   "source": [
    "# Now replace the remaining records that have an invalid age value less than or \n",
    "# equal to zero, with the Overall median victim age value which is 32.\n",
    "# As seen in the outputs above, for this particular category the invalid age values\n",
    "# are [0, -1, -2, -3, -4, -5, -6, -7, -8, -9]\n",
    "\n",
    "df.loc[ df['Vict Age']<=0, 'Vict Age' ] = 32"
   ]
  },
  {
   "cell_type": "markdown",
   "metadata": {},
   "source": [
    "#### Post-Imputation on Column: Vict Age"
   ]
  },
  {
   "cell_type": "code",
   "execution_count": 88,
   "metadata": {
    "scrolled": true
   },
   "outputs": [
    {
     "name": "stdout",
     "output_type": "stream",
     "text": [
      "\n",
      "Total number of records with invalid age values are: 0\n"
     ]
    }
   ],
   "source": [
    "# Display total number of records with invalid age values\n",
    "# Age values zero and less are considered invalid age values\n",
    "\n",
    "print()\n",
    "print(\"Total number of records with invalid age values are: \" + str( df[df['Vict Age']<=0]['Vict Age'].count() ))"
   ]
  },
  {
   "cell_type": "code",
   "execution_count": 89,
   "metadata": {},
   "outputs": [
    {
     "name": "stdout",
     "output_type": "stream",
     "text": [
      "\n",
      "Number of victims grouped by their Age are as below:\n"
     ]
    },
    {
     "data": {
      "text/plain": [
       "Vict Age\n",
       "2      1465\n",
       "3      1799\n",
       "4      2095\n",
       "5      2375\n",
       "6      2433\n",
       "       ... \n",
       "97      168\n",
       "98      118\n",
       "99      809\n",
       "114       1\n",
       "118       1\n",
       "Length: 100, dtype: int64"
      ]
     },
     "execution_count": 89,
     "metadata": {},
     "output_type": "execute_result"
    }
   ],
   "source": [
    "# Display number of victims grouped by their Age\n",
    "\n",
    "print()\n",
    "print(\"Number of victims grouped by their Age are as below:\")\n",
    "df.groupby('Vict Age').size()"
   ]
  },
  {
   "cell_type": "markdown",
   "metadata": {},
   "source": [
    "As seen in the output above, there are **NO records with invalid age values**."
   ]
  },
  {
   "cell_type": "markdown",
   "metadata": {},
   "source": [
    "#### Exploring Columns: 'LAT' and 'LON'"
   ]
  },
  {
   "cell_type": "code",
   "execution_count": 90,
   "metadata": {},
   "outputs": [
    {
     "name": "stdout",
     "output_type": "stream",
     "text": [
      "\n",
      "Records grouped by Latitude values:\n"
     ]
    },
    {
     "data": {
      "text/plain": [
       "LAT\n",
       "0.0000     898\n",
       "33.3427      6\n",
       "33.7058      3\n",
       "33.7060     38\n",
       "33.7062     35\n",
       "          ... \n",
       "34.6648      1\n",
       "34.6765      1\n",
       "34.6828      2\n",
       "34.7060      2\n",
       "34.7907      1\n",
       "Length: 5421, dtype: int64"
      ]
     },
     "execution_count": 90,
     "metadata": {},
     "output_type": "execute_result"
    }
   ],
   "source": [
    "# Display records grouped by LAT values\n",
    "\n",
    "print()\n",
    "print(\"Records grouped by Latitude values:\")\n",
    "df.groupby('LAT').size()"
   ]
  },
  {
   "cell_type": "code",
   "execution_count": 91,
   "metadata": {},
   "outputs": [
    {
     "name": "stdout",
     "output_type": "stream",
     "text": [
      "\n",
      "Records grouped by Longitude values:\n"
     ]
    },
    {
     "data": {
      "text/plain": [
       "LON\n",
       "-118.8279      1\n",
       "-118.8276      1\n",
       "-118.7668      6\n",
       "-118.6677      5\n",
       "-118.6673     27\n",
       "            ... \n",
       "-117.7115      1\n",
       "-117.7100      1\n",
       "-117.7059      1\n",
       "-117.6596      1\n",
       " 0.0000      898\n",
       "Length: 5091, dtype: int64"
      ]
     },
     "execution_count": 91,
     "metadata": {},
     "output_type": "execute_result"
    }
   ],
   "source": [
    "# Display records grouped by LON values\n",
    "\n",
    "print()\n",
    "print(\"Records grouped by Longitude values:\")\n",
    "df.groupby('LON').size()"
   ]
  },
  {
   "cell_type": "code",
   "execution_count": 95,
   "metadata": {},
   "outputs": [
    {
     "name": "stdout",
     "output_type": "stream",
     "text": [
      "\n",
      "Mean latitude value in the current data set is: 34.063769408189124\n",
      "Mean longitude value in the current data set is: -118.30882522215776\n"
     ]
    }
   ],
   "source": [
    "# Display mean LAT and LON values\n",
    "\n",
    "print()\n",
    "mean_LAT = df['LAT'].mean()\n",
    "mean_LON = df['LON'].mean()\n",
    "print( \"Mean latitude value in the current data set is: \" + str(mean_LAT) )\n",
    "print( \"Mean longitude value in the current data set is: \" + str(mean_LON) )"
   ]
  },
  {
   "cell_type": "markdown",
   "metadata": {},
   "source": [
    "Based on the outputs above we have the following observations for the 'LAT' and 'LON' columns:\n",
    "- There are 898 records which have a latitude value of 0.0000.\n",
    "- There are 898 records which have a longitude value of 0.0000.\n",
    "\n",
    "According to Google maps, the latitude of Los Angeles, CA, USA is 34.052235, and the longitude is -118.243683. Which indicates that the LAT and LON **values with 0.0000 are invalid**.\n",
    "\n",
    "Based on further analysis by looking at a random selection of records it is concluded that these invalid values could have been **data entry errors**.\n",
    "\n",
    "Hence, we have concluded to **replace these invalid values with the 'mean' values**."
   ]
  },
  {
   "cell_type": "markdown",
   "metadata": {},
   "source": [
    "#### Imputation on Columns: 'LAT' and 'LON'"
   ]
  },
  {
   "cell_type": "code",
   "execution_count": 96,
   "metadata": {},
   "outputs": [],
   "source": [
    "# Replace invalid 'LAT' and 'LON' values with their mean values respectively\n",
    "\n",
    "df.loc[ df['LAT']==0, 'LAT' ] = mean_LAT\n",
    "df.loc[ df['LON']==0, 'LON' ] = mean_LON"
   ]
  },
  {
   "cell_type": "markdown",
   "metadata": {},
   "source": [
    "#### Post-Imputation on Columns: 'LAT' and 'LON'"
   ]
  },
  {
   "cell_type": "code",
   "execution_count": 105,
   "metadata": {},
   "outputs": [
    {
     "name": "stdout",
     "output_type": "stream",
     "text": [
      "\n",
      "Min LAT is: 33.3427 and Max LAT is: 34.7907\n",
      "Min LON is: -118.8279 and Max LON is: -117.6596\n"
     ]
    }
   ],
   "source": [
    "# Display min and max values of 'LAT' and 'LON' columns\n",
    "\n",
    "print()\n",
    "print( \"Min LAT is: \" + str(df['LAT'].min()) + \" and \" + \"Max LAT is: \" + str(df['LAT'].max()) )\n",
    "print( \"Min LON is: \" + str(df['LON'].min()) + \" and \" + \"Max LON is: \" + str(df['LON'].max()) )"
   ]
  },
  {
   "cell_type": "markdown",
   "metadata": {},
   "source": [
    "As seen in the output above, there are **NO records with invalid LAT and LON values**."
   ]
  },
  {
   "cell_type": "code",
   "execution_count": 95,
   "metadata": {},
   "outputs": [
    {
     "data": {
      "text/plain": [
       "DR_NO                   0\n",
       "Date Rptd               0\n",
       "DATE OCC                0\n",
       "TIME OCC                0\n",
       "AREA                    0\n",
       "AREA NAME               0\n",
       "Rpt Dist No             0\n",
       "Part 1-2                0\n",
       "Crm Cd                  0\n",
       "Crm Cd Desc             0\n",
       "Mocodes            228017\n",
       "Vict Age                0\n",
       "Vict Sex                0\n",
       "Vict Descent            0\n",
       "Premis Cd              53\n",
       "Premis Desc           187\n",
       "Weapon Used Cd    1404863\n",
       "Weapon Desc       1404864\n",
       "Status                  3\n",
       "Status Desc             0\n",
       "Crm Cd 1               10\n",
       "Crm Cd 2          1975931\n",
       "Crm Cd 3          2111834\n",
       "Crm Cd 4          2115229\n",
       "LOCATION                0\n",
       "Cross Street      1759943\n",
       "LAT                     0\n",
       "LON                     0\n",
       "dtype: int64"
      ]
     },
     "execution_count": 95,
     "metadata": {},
     "output_type": "execute_result"
    }
   ],
   "source": [
    "# Find Missing values in each column\n",
    "\n",
    "df.isnull().sum()"
   ]
  },
  {
   "cell_type": "markdown",
   "metadata": {},
   "source": [
    "# Simple & appropriate statistics \n",
    "#### [10 points] Give simple, appropriate statistics (range, mode, mean, median, variance, counts, etc.) for the most important attributes and describe what they mean or if you found something interesting. Note: You can also use data from other sources for comparison. Explain the significance of the statistics run and why they are meaningful.\n"
   ]
  },
  {
   "cell_type": "code",
   "execution_count": 8,
   "metadata": {},
   "outputs": [
    {
     "data": {
      "text/html": [
       "<div>\n",
       "<style scoped>\n",
       "    .dataframe tbody tr th:only-of-type {\n",
       "        vertical-align: middle;\n",
       "    }\n",
       "\n",
       "    .dataframe tbody tr th {\n",
       "        vertical-align: top;\n",
       "    }\n",
       "\n",
       "    .dataframe thead th {\n",
       "        text-align: right;\n",
       "    }\n",
       "</style>\n",
       "<table border=\"1\" class=\"dataframe\">\n",
       "  <thead>\n",
       "    <tr style=\"text-align: right;\">\n",
       "      <th></th>\n",
       "      <th>DR_NO</th>\n",
       "      <th>TIME OCC</th>\n",
       "      <th>AREA</th>\n",
       "      <th>Rpt Dist No</th>\n",
       "      <th>Part 1-2</th>\n",
       "      <th>Crm Cd</th>\n",
       "      <th>Vict Age</th>\n",
       "      <th>Premis Cd</th>\n",
       "      <th>Weapon Used Cd</th>\n",
       "      <th>Crm Cd 1</th>\n",
       "      <th>Crm Cd 2</th>\n",
       "      <th>Crm Cd 3</th>\n",
       "      <th>Crm Cd 4</th>\n",
       "      <th>LAT</th>\n",
       "      <th>LON</th>\n",
       "    </tr>\n",
       "  </thead>\n",
       "  <tbody>\n",
       "    <tr>\n",
       "      <th>count</th>\n",
       "      <td>2.115333e+06</td>\n",
       "      <td>2.115333e+06</td>\n",
       "      <td>2.115333e+06</td>\n",
       "      <td>2.115333e+06</td>\n",
       "      <td>2.115333e+06</td>\n",
       "      <td>2.115333e+06</td>\n",
       "      <td>2.115333e+06</td>\n",
       "      <td>2.115280e+06</td>\n",
       "      <td>710470.000000</td>\n",
       "      <td>2.115323e+06</td>\n",
       "      <td>139402.000000</td>\n",
       "      <td>3499.000000</td>\n",
       "      <td>104.000000</td>\n",
       "      <td>2.115333e+06</td>\n",
       "      <td>2.115333e+06</td>\n",
       "    </tr>\n",
       "    <tr>\n",
       "      <th>mean</th>\n",
       "      <td>1.479209e+08</td>\n",
       "      <td>1.359865e+03</td>\n",
       "      <td>1.108682e+01</td>\n",
       "      <td>1.155070e+03</td>\n",
       "      <td>1.446029e+00</td>\n",
       "      <td>5.073349e+02</td>\n",
       "      <td>3.176409e+01</td>\n",
       "      <td>3.111814e+02</td>\n",
       "      <td>371.371934</td>\n",
       "      <td>5.071590e+02</td>\n",
       "      <td>949.996428</td>\n",
       "      <td>972.210346</td>\n",
       "      <td>975.105769</td>\n",
       "      <td>3.406377e+01</td>\n",
       "      <td>-1.183088e+02</td>\n",
       "    </tr>\n",
       "    <tr>\n",
       "      <th>std</th>\n",
       "      <td>2.887068e+07</td>\n",
       "      <td>6.470967e+02</td>\n",
       "      <td>6.012440e+00</td>\n",
       "      <td>6.012589e+02</td>\n",
       "      <td>4.970787e-01</td>\n",
       "      <td>2.106272e+02</td>\n",
       "      <td>2.064750e+01</td>\n",
       "      <td>2.113121e+02</td>\n",
       "      <td>113.469024</td>\n",
       "      <td>2.104900e+02</td>\n",
       "      <td>125.680743</td>\n",
       "      <td>85.516627</td>\n",
       "      <td>81.276338</td>\n",
       "      <td>7.115120e-01</td>\n",
       "      <td>2.440446e+00</td>\n",
       "    </tr>\n",
       "    <tr>\n",
       "      <th>min</th>\n",
       "      <td>1.208575e+06</td>\n",
       "      <td>1.000000e+00</td>\n",
       "      <td>1.000000e+00</td>\n",
       "      <td>1.000000e+02</td>\n",
       "      <td>1.000000e+00</td>\n",
       "      <td>1.100000e+02</td>\n",
       "      <td>-9.000000e+00</td>\n",
       "      <td>1.010000e+02</td>\n",
       "      <td>101.000000</td>\n",
       "      <td>1.100000e+02</td>\n",
       "      <td>210.000000</td>\n",
       "      <td>93.000000</td>\n",
       "      <td>421.000000</td>\n",
       "      <td>0.000000e+00</td>\n",
       "      <td>-1.188279e+02</td>\n",
       "    </tr>\n",
       "    <tr>\n",
       "      <th>25%</th>\n",
       "      <td>1.214242e+08</td>\n",
       "      <td>9.300000e+02</td>\n",
       "      <td>6.000000e+00</td>\n",
       "      <td>6.430000e+02</td>\n",
       "      <td>1.000000e+00</td>\n",
       "      <td>3.300000e+02</td>\n",
       "      <td>2.000000e+01</td>\n",
       "      <td>1.020000e+02</td>\n",
       "      <td>400.000000</td>\n",
       "      <td>3.300000e+02</td>\n",
       "      <td>998.000000</td>\n",
       "      <td>998.000000</td>\n",
       "      <td>998.000000</td>\n",
       "      <td>3.401050e+01</td>\n",
       "      <td>-1.184364e+02</td>\n",
       "    </tr>\n",
       "    <tr>\n",
       "      <th>50%</th>\n",
       "      <td>1.508087e+08</td>\n",
       "      <td>1.430000e+03</td>\n",
       "      <td>1.100000e+01</td>\n",
       "      <td>1.189000e+03</td>\n",
       "      <td>1.000000e+00</td>\n",
       "      <td>4.420000e+02</td>\n",
       "      <td>3.200000e+01</td>\n",
       "      <td>2.100000e+02</td>\n",
       "      <td>400.000000</td>\n",
       "      <td>4.420000e+02</td>\n",
       "      <td>998.000000</td>\n",
       "      <td>998.000000</td>\n",
       "      <td>998.000000</td>\n",
       "      <td>3.406230e+01</td>\n",
       "      <td>-1.183295e+02</td>\n",
       "    </tr>\n",
       "    <tr>\n",
       "      <th>75%</th>\n",
       "      <td>1.715119e+08</td>\n",
       "      <td>1.900000e+03</td>\n",
       "      <td>1.600000e+01</td>\n",
       "      <td>1.668000e+03</td>\n",
       "      <td>2.000000e+00</td>\n",
       "      <td>6.260000e+02</td>\n",
       "      <td>4.600000e+01</td>\n",
       "      <td>5.010000e+02</td>\n",
       "      <td>400.000000</td>\n",
       "      <td>6.260000e+02</td>\n",
       "      <td>998.000000</td>\n",
       "      <td>998.000000</td>\n",
       "      <td>998.000000</td>\n",
       "      <td>3.417580e+01</td>\n",
       "      <td>-1.182778e+02</td>\n",
       "    </tr>\n",
       "    <tr>\n",
       "      <th>max</th>\n",
       "      <td>9.102204e+08</td>\n",
       "      <td>2.359000e+03</td>\n",
       "      <td>2.100000e+01</td>\n",
       "      <td>2.199000e+03</td>\n",
       "      <td>2.000000e+00</td>\n",
       "      <td>9.560000e+02</td>\n",
       "      <td>1.180000e+02</td>\n",
       "      <td>9.710000e+02</td>\n",
       "      <td>516.000000</td>\n",
       "      <td>9.990000e+02</td>\n",
       "      <td>999.000000</td>\n",
       "      <td>999.000000</td>\n",
       "      <td>999.000000</td>\n",
       "      <td>3.479070e+01</td>\n",
       "      <td>0.000000e+00</td>\n",
       "    </tr>\n",
       "  </tbody>\n",
       "</table>\n",
       "</div>"
      ],
      "text/plain": [
       "              DR_NO      TIME OCC         AREA    Rpt Dist No      Part 1-2  \\\n",
       "count  2.115333e+06  2.115333e+06  2.115333e+06  2.115333e+06  2.115333e+06   \n",
       "mean   1.479209e+08  1.359865e+03  1.108682e+01  1.155070e+03  1.446029e+00   \n",
       "std    2.887068e+07  6.470967e+02  6.012440e+00  6.012589e+02  4.970787e-01   \n",
       "min    1.208575e+06  1.000000e+00  1.000000e+00  1.000000e+02  1.000000e+00   \n",
       "25%    1.214242e+08  9.300000e+02  6.000000e+00  6.430000e+02  1.000000e+00   \n",
       "50%    1.508087e+08  1.430000e+03  1.100000e+01  1.189000e+03  1.000000e+00   \n",
       "75%    1.715119e+08  1.900000e+03  1.600000e+01  1.668000e+03  2.000000e+00   \n",
       "max    9.102204e+08  2.359000e+03  2.100000e+01  2.199000e+03  2.000000e+00   \n",
       "\n",
       "             Crm Cd      Vict Age     Premis Cd  Weapon Used Cd      Crm Cd 1  \\\n",
       "count  2.115333e+06  2.115333e+06  2.115280e+06   710470.000000  2.115323e+06   \n",
       "mean   5.073349e+02  3.176409e+01  3.111814e+02      371.371934  5.071590e+02   \n",
       "std    2.106272e+02  2.064750e+01  2.113121e+02      113.469024  2.104900e+02   \n",
       "min    1.100000e+02 -9.000000e+00  1.010000e+02      101.000000  1.100000e+02   \n",
       "25%    3.300000e+02  2.000000e+01  1.020000e+02      400.000000  3.300000e+02   \n",
       "50%    4.420000e+02  3.200000e+01  2.100000e+02      400.000000  4.420000e+02   \n",
       "75%    6.260000e+02  4.600000e+01  5.010000e+02      400.000000  6.260000e+02   \n",
       "max    9.560000e+02  1.180000e+02  9.710000e+02      516.000000  9.990000e+02   \n",
       "\n",
       "            Crm Cd 2     Crm Cd 3    Crm Cd 4           LAT           LON  \n",
       "count  139402.000000  3499.000000  104.000000  2.115333e+06  2.115333e+06  \n",
       "mean      949.996428   972.210346  975.105769  3.406377e+01 -1.183088e+02  \n",
       "std       125.680743    85.516627   81.276338  7.115120e-01  2.440446e+00  \n",
       "min       210.000000    93.000000  421.000000  0.000000e+00 -1.188279e+02  \n",
       "25%       998.000000   998.000000  998.000000  3.401050e+01 -1.184364e+02  \n",
       "50%       998.000000   998.000000  998.000000  3.406230e+01 -1.183295e+02  \n",
       "75%       998.000000   998.000000  998.000000  3.417580e+01 -1.182778e+02  \n",
       "max       999.000000   999.000000  999.000000  3.479070e+01  0.000000e+00  "
      ]
     },
     "execution_count": 8,
     "metadata": {},
     "output_type": "execute_result"
    }
   ],
   "source": [
    "df.describe()"
   ]
  },
  {
   "cell_type": "markdown",
   "metadata": {},
   "source": [
    " Victim Age appears to be highest in the twenties and goes down from there.\n",
    " 0 - may be no age given check for NaN"
   ]
  },
  {
   "cell_type": "code",
   "execution_count": 9,
   "metadata": {},
   "outputs": [
    {
     "data": {
      "text/plain": [
       "array([[<matplotlib.axes._subplots.AxesSubplot object at 0x11a01e080>]],\n",
       "      dtype=object)"
      ]
     },
     "execution_count": 9,
     "metadata": {},
     "output_type": "execute_result"
    },
    {
     "data": {
      "image/png": "[encoded data removed]",
      "text/plain": [
       "<Figure size 432x288 with 1 Axes>"
      ]
     },
     "metadata": {
      "needs_background": "light"
     },
     "output_type": "display_data"
    },
    {
     "data": {
      "image/png": "[encoded data removed]",
      "text/plain": [
       "<Figure size 432x288 with 1 Axes>"
      ]
     },
     "metadata": {
      "needs_background": "light"
     },
     "output_type": "display_data"
    },
    {
     "data": {
      "image/png": "[encoded data removed]",
      "text/plain": [
       "<Figure size 432x288 with 1 Axes>"
      ]
     },
     "metadata": {
      "needs_background": "light"
     },
     "output_type": "display_data"
    }
   ],
   "source": [
    "df.hist(column='Vict Age')\n",
    "df.hist(column='TIME OCC')\n",
    "df.hist(column='Rpt Dist No')\n"
   ]
  },
  {
   "cell_type": "markdown",
   "metadata": {},
   "source": [
    "# Visualize important attributes\n",
    "#### [15 points] Visualize the most important attributes appropriately (at least 5 attributes). Important: Provide an interpretation for each chart. Explain for each attribute why the chosen visualization is appropriate\n",
    "\n",
    "https://towardsdatascience.com/geopandas-101-plot-any-data-with-a-latitude-and-longitude-on-a-map-98e01944b972\n",
    "\n",
    "This is using "
   ]
  },
  {
   "cell_type": "code",
   "execution_count": 11,
   "metadata": {},
   "outputs": [
    {
     "name": "stderr",
     "output_type": "stream",
     "text": [
      "WARNING:root:Requests made without an app_token will be subject to strict throttling limits.\n"
     ]
    }
   ],
   "source": [
    "#!/usr/bin/env python\n",
    "\n",
    "# make sure to install these packages before running:\n",
    "# pip install pandas\n",
    "# pip install sodapy\n",
    "\n",
    "from sodapy import Socrata\n",
    "\n",
    "# Unauthenticated client only works with public data sets. Note 'None'\n",
    "# in place of application token, and no username or password:\n",
    "client = Socrata(\"data.lacity.org\", None)\n",
    "\n",
    "# Example authenticated client (needed for non-public datasets):\n",
    "# client = Socrata(data.lacity.org,\n",
    "#                  MyAppToken,\n",
    "#                  userame=\"user@example.com\",\n",
    "#                  password=\"AFakePassword\")\n",
    "\n",
    "# First 2000 results, returned as JSON from API / converted to Python list of\n",
    "# dictionaries by sodapy.\n",
    "results = client.get(\"63jg-8b9z\", limit=5000)\n",
    "\n",
    "# Convert to pandas DataFrame\n",
    "results_df = pd.DataFrame.from_records(results)\n",
    "results_df.head()\n",
    "\n",
    "results_df['lat'] = results_df['lat'].astype(float)\n",
    "results_df['lon'] = results_df['lon'].astype(float)\n",
    "\n",
    "#results_df.lat = int(results_df.lat)\n",
    "#results_df.lat = int(results_df.lon)"
   ]
  },
  {
   "cell_type": "code",
   "execution_count": 12,
   "metadata": {},
   "outputs": [
    {
     "data": {
      "text/plain": [
       "[<shapely.geometry.point.Point at 0x11a26b400>,\n",
       " <shapely.geometry.point.Point at 0x11a26b940>,\n",
       " <shapely.geometry.point.Point at 0x11a26beb8>]"
      ]
     },
     "execution_count": 12,
     "metadata": {},
     "output_type": "execute_result"
    }
   ],
   "source": [
    "\n",
    "#create a geopandas dataframe and convert lat/long to point geometry:\n",
    "geometry = [Point(xy) for xy in zip(results_df[\"lon\"], results_df[\"lat\"])]\n",
    "geometry[:3]"
   ]
  },
  {
   "cell_type": "code",
   "execution_count": 13,
   "metadata": {},
   "outputs": [
    {
     "name": "stderr",
     "output_type": "stream",
     "text": [
      "/Users/juliacodes/Documents/GitHub/MSDS-ML1-VisualizationAndDataProcessing/lacrime-env/lib/python3.6/site-packages/pyproj/crs/crs.py:53: FutureWarning: '+init=<authority>:<code>' syntax is deprecated. '<authority>:<code>' is the preferred initialization method. When making the change, be mindful of axis order changes: https://pyproj4.github.io/pyproj/stable/gotchas.html#axis-order-changes-in-proj-6\n",
      "  return _prepare_from_string(\" \".join(pjargs))\n"
     ]
    },
    {
     "data": {
      "text/html": [
       "<div>\n",
       "<style scoped>\n",
       "    .dataframe tbody tr th:only-of-type {\n",
       "        vertical-align: middle;\n",
       "    }\n",
       "\n",
       "    .dataframe tbody tr th {\n",
       "        vertical-align: top;\n",
       "    }\n",
       "\n",
       "    .dataframe thead th {\n",
       "        text-align: right;\n",
       "    }\n",
       "</style>\n",
       "<table border=\"1\" class=\"dataframe\">\n",
       "  <thead>\n",
       "    <tr style=\"text-align: right;\">\n",
       "      <th></th>\n",
       "      <th>dr_no</th>\n",
       "      <th>date_rptd</th>\n",
       "      <th>date_occ</th>\n",
       "      <th>time_occ</th>\n",
       "      <th>area</th>\n",
       "      <th>area_name</th>\n",
       "      <th>rpt_dist_no</th>\n",
       "      <th>part_1_2</th>\n",
       "      <th>crm_cd</th>\n",
       "      <th>crm_cd_desc</th>\n",
       "      <th>...</th>\n",
       "      <th>crm_cd_1</th>\n",
       "      <th>location</th>\n",
       "      <th>lat</th>\n",
       "      <th>lon</th>\n",
       "      <th>cross_street</th>\n",
       "      <th>weapon_used_cd</th>\n",
       "      <th>weapon_desc</th>\n",
       "      <th>crm_cd_2</th>\n",
       "      <th>crm_cd_3</th>\n",
       "      <th>geometry</th>\n",
       "    </tr>\n",
       "  </thead>\n",
       "  <tbody>\n",
       "    <tr>\n",
       "      <th>0</th>\n",
       "      <td>001307355</td>\n",
       "      <td>2010-02-20T00:00:00.000</td>\n",
       "      <td>2010-02-20T00:00:00.000</td>\n",
       "      <td>1350</td>\n",
       "      <td>13</td>\n",
       "      <td>Newton</td>\n",
       "      <td>1385</td>\n",
       "      <td>2</td>\n",
       "      <td>900</td>\n",
       "      <td>VIOLATION OF COURT ORDER</td>\n",
       "      <td>...</td>\n",
       "      <td>900</td>\n",
       "      <td>300 E  GAGE                         AV</td>\n",
       "      <td>33.9825</td>\n",
       "      <td>-118.2695</td>\n",
       "      <td>NaN</td>\n",
       "      <td>NaN</td>\n",
       "      <td>NaN</td>\n",
       "      <td>NaN</td>\n",
       "      <td>NaN</td>\n",
       "      <td>POINT (-118.26950 33.98250)</td>\n",
       "    </tr>\n",
       "    <tr>\n",
       "      <th>1</th>\n",
       "      <td>011401303</td>\n",
       "      <td>2010-09-13T00:00:00.000</td>\n",
       "      <td>2010-09-12T00:00:00.000</td>\n",
       "      <td>0045</td>\n",
       "      <td>14</td>\n",
       "      <td>Pacific</td>\n",
       "      <td>1485</td>\n",
       "      <td>2</td>\n",
       "      <td>740</td>\n",
       "      <td>VANDALISM - FELONY ($400 &amp; OVER, ALL CHURCH VA...</td>\n",
       "      <td>...</td>\n",
       "      <td>740</td>\n",
       "      <td>SEPULVEDA                    BL</td>\n",
       "      <td>33.9599</td>\n",
       "      <td>-118.3962</td>\n",
       "      <td>MANCHESTER                   AV</td>\n",
       "      <td>NaN</td>\n",
       "      <td>NaN</td>\n",
       "      <td>NaN</td>\n",
       "      <td>NaN</td>\n",
       "      <td>POINT (-118.39620 33.95990)</td>\n",
       "    </tr>\n",
       "    <tr>\n",
       "      <th>2</th>\n",
       "      <td>070309629</td>\n",
       "      <td>2010-08-09T00:00:00.000</td>\n",
       "      <td>2010-08-09T00:00:00.000</td>\n",
       "      <td>1515</td>\n",
       "      <td>13</td>\n",
       "      <td>Newton</td>\n",
       "      <td>1324</td>\n",
       "      <td>2</td>\n",
       "      <td>946</td>\n",
       "      <td>OTHER MISCELLANEOUS CRIME</td>\n",
       "      <td>...</td>\n",
       "      <td>946</td>\n",
       "      <td>1300 E  21ST                         ST</td>\n",
       "      <td>34.0224</td>\n",
       "      <td>-118.2524</td>\n",
       "      <td>NaN</td>\n",
       "      <td>NaN</td>\n",
       "      <td>NaN</td>\n",
       "      <td>NaN</td>\n",
       "      <td>NaN</td>\n",
       "      <td>POINT (-118.25240 34.02240)</td>\n",
       "    </tr>\n",
       "    <tr>\n",
       "      <th>3</th>\n",
       "      <td>090631215</td>\n",
       "      <td>2010-01-05T00:00:00.000</td>\n",
       "      <td>2010-01-05T00:00:00.000</td>\n",
       "      <td>0150</td>\n",
       "      <td>06</td>\n",
       "      <td>Hollywood</td>\n",
       "      <td>0646</td>\n",
       "      <td>2</td>\n",
       "      <td>900</td>\n",
       "      <td>VIOLATION OF COURT ORDER</td>\n",
       "      <td>...</td>\n",
       "      <td>900</td>\n",
       "      <td>CAHUENGA                     BL</td>\n",
       "      <td>34.1016</td>\n",
       "      <td>-118.3295</td>\n",
       "      <td>HOLLYWOOD                    BL</td>\n",
       "      <td>102</td>\n",
       "      <td>HAND GUN</td>\n",
       "      <td>998</td>\n",
       "      <td>NaN</td>\n",
       "      <td>POINT (-118.32950 34.10160)</td>\n",
       "    </tr>\n",
       "    <tr>\n",
       "      <th>4</th>\n",
       "      <td>100100501</td>\n",
       "      <td>2010-01-03T00:00:00.000</td>\n",
       "      <td>2010-01-02T00:00:00.000</td>\n",
       "      <td>2100</td>\n",
       "      <td>01</td>\n",
       "      <td>Central</td>\n",
       "      <td>0176</td>\n",
       "      <td>1</td>\n",
       "      <td>122</td>\n",
       "      <td>RAPE, ATTEMPTED</td>\n",
       "      <td>...</td>\n",
       "      <td>122</td>\n",
       "      <td>8TH                          ST</td>\n",
       "      <td>34.0387</td>\n",
       "      <td>-118.2488</td>\n",
       "      <td>SAN PEDRO                    ST</td>\n",
       "      <td>400</td>\n",
       "      <td>STRONG-ARM (HANDS, FIST, FEET OR BODILY FORCE)</td>\n",
       "      <td>NaN</td>\n",
       "      <td>NaN</td>\n",
       "      <td>POINT (-118.24880 34.03870)</td>\n",
       "    </tr>\n",
       "  </tbody>\n",
       "</table>\n",
       "<p>5 rows × 28 columns</p>\n",
       "</div>"
      ],
      "text/plain": [
       "       dr_no                date_rptd                 date_occ time_occ area  \\\n",
       "0  001307355  2010-02-20T00:00:00.000  2010-02-20T00:00:00.000     1350   13   \n",
       "1  011401303  2010-09-13T00:00:00.000  2010-09-12T00:00:00.000     0045   14   \n",
       "2  070309629  2010-08-09T00:00:00.000  2010-08-09T00:00:00.000     1515   13   \n",
       "3  090631215  2010-01-05T00:00:00.000  2010-01-05T00:00:00.000     0150   06   \n",
       "4  100100501  2010-01-03T00:00:00.000  2010-01-02T00:00:00.000     2100   01   \n",
       "\n",
       "   area_name rpt_dist_no part_1_2 crm_cd  \\\n",
       "0     Newton        1385        2    900   \n",
       "1    Pacific        1485        2    740   \n",
       "2     Newton        1324        2    946   \n",
       "3  Hollywood        0646        2    900   \n",
       "4    Central        0176        1    122   \n",
       "\n",
       "                                         crm_cd_desc  ... crm_cd_1  \\\n",
       "0                           VIOLATION OF COURT ORDER  ...      900   \n",
       "1  VANDALISM - FELONY ($400 & OVER, ALL CHURCH VA...  ...      740   \n",
       "2                          OTHER MISCELLANEOUS CRIME  ...      946   \n",
       "3                           VIOLATION OF COURT ORDER  ...      900   \n",
       "4                                    RAPE, ATTEMPTED  ...      122   \n",
       "\n",
       "                                  location      lat       lon  \\\n",
       "0   300 E  GAGE                         AV  33.9825 -118.2695   \n",
       "1          SEPULVEDA                    BL  33.9599 -118.3962   \n",
       "2  1300 E  21ST                         ST  34.0224 -118.2524   \n",
       "3          CAHUENGA                     BL  34.1016 -118.3295   \n",
       "4          8TH                          ST  34.0387 -118.2488   \n",
       "\n",
       "                      cross_street weapon_used_cd  \\\n",
       "0                              NaN            NaN   \n",
       "1  MANCHESTER                   AV            NaN   \n",
       "2                              NaN            NaN   \n",
       "3  HOLLYWOOD                    BL            102   \n",
       "4  SAN PEDRO                    ST            400   \n",
       "\n",
       "                                      weapon_desc crm_cd_2 crm_cd_3  \\\n",
       "0                                             NaN      NaN      NaN   \n",
       "1                                             NaN      NaN      NaN   \n",
       "2                                             NaN      NaN      NaN   \n",
       "3                                        HAND GUN      998      NaN   \n",
       "4  STRONG-ARM (HANDS, FIST, FEET OR BODILY FORCE)      NaN      NaN   \n",
       "\n",
       "                      geometry  \n",
       "0  POINT (-118.26950 33.98250)  \n",
       "1  POINT (-118.39620 33.95990)  \n",
       "2  POINT (-118.25240 34.02240)  \n",
       "3  POINT (-118.32950 34.10160)  \n",
       "4  POINT (-118.24880 34.03870)  \n",
       "\n",
       "[5 rows x 28 columns]"
      ]
     },
     "execution_count": 13,
     "metadata": {},
     "output_type": "execute_result"
    }
   ],
   "source": [
    "#Tell it that we are using Lat/Long as our\n",
    "crs = {'init': 'epsg:4326'}\n",
    "\n",
    "geo_df = gpd.GeoDataFrame(results_df, crs = crs, geometry = geometry)\n",
    "geo_df.head()"
   ]
  },
  {
   "cell_type": "code",
   "execution_count": 24,
   "metadata": {},
   "outputs": [
    {
     "data": {
      "text/plain": [
       "0       False\n",
       "1       False\n",
       "2       False\n",
       "3        True\n",
       "4        True\n",
       "        ...  \n",
       "4995    False\n",
       "4996    False\n",
       "4997    False\n",
       "4998    False\n",
       "4999    False\n",
       "Name: weapon_used_cd, Length: 5000, dtype: bool"
      ]
     },
     "execution_count": 24,
     "metadata": {},
     "output_type": "execute_result"
    }
   ],
   "source": [
    "#This was just to limit data\n",
    "#geo_400 = geo_df[geo_df['TIME OCC'] == 400].describe()\n",
    "#geo_400 = geo_400[geo_df['LAT'] != 0].describe()\n",
    "geo_df['weapon_used_cd'].notnull()"
   ]
  },
  {
   "cell_type": "markdown",
   "metadata": {},
   "source": [
    "Shape data from LA City Geo data\n",
    "https://geohub.lacity.org/datasets/7835077624374b9fa65676443ba7a578_19"
   ]
  },
  {
   "cell_type": "code",
   "execution_count": 17,
   "metadata": {},
   "outputs": [
    {
     "data": {
      "text/plain": [
       "<matplotlib.axes._subplots.AxesSubplot at 0x11c4b8780>"
      ]
     },
     "execution_count": 17,
     "metadata": {},
     "output_type": "execute_result"
    },
    {
     "data": {
      "image/png": "[encoded data removed]",
      "text/plain": [
       "<Figure size 1080x1080 with 1 Axes>"
      ]
     },
     "metadata": {
      "needs_background": "light"
     },
     "output_type": "display_data"
    }
   ],
   "source": [
    "la_map = gpd.read_file('Data/shape/City_Boundaries.shp')\n",
    "fig,ax = plt.subplots(figsize=(15,15))\n",
    "la_map.plot(ax=ax)"
   ]
  },
  {
   "cell_type": "code",
   "execution_count": 25,
   "metadata": {},
   "outputs": [
    {
     "data": {
      "text/plain": [
       "<matplotlib.legend.Legend at 0x11a010d30>"
      ]
     },
     "execution_count": 25,
     "metadata": {},
     "output_type": "execute_result"
    },
    {
     "data": {
      "image/png": "[encoded data removed]",
      "text/plain": [
       "<Figure size 1080x1080 with 1 Axes>"
      ]
     },
     "metadata": {
      "needs_background": "light"
     },
     "output_type": "display_data"
    }
   ],
   "source": [
    "fig,ax = plt.subplots(figsize = (15,15))\n",
    "la_map.plot(ax= ax, alpha = 0.4, color = \"grey\")\n",
    "geo_df[geo_df['weapon_used_cd'].isnull()].plot(ax = ax, markersize = 20, color = \"blue\", marker = 'o', label = 'Unarmed Crime')\n",
    "geo_df[geo_df['weapon_used_cd'].notnull()].plot(ax = ax, markersize = 20, color = \"red\", marker = 'o', label = 'Armed Crime')\n",
    "plt.legend(prop={'size':15})"
   ]
  },
  {
   "cell_type": "markdown",
   "metadata": {},
   "source": [
    "# Explore relationships between attributes\n",
    "#### [15 points] Explore relationships between attributes: Look at the attributes via scatter plots, correlation, cross-tabulation, group-wise averages, etc. as appropriate. Explain any interesting relationships.\n",
    "\n",
    "\n",
    "Ideas\n",
    "* (Age, Area)\n",
    "* (Age, Crime Code)\n",
    "* (Age, Gender)"
   ]
  },
  {
   "cell_type": "code",
   "execution_count": null,
   "metadata": {},
   "outputs": [],
   "source": []
  },
  {
   "cell_type": "markdown",
   "metadata": {},
   "source": [
    "# Explore relationships between features and response\n",
    "#### [10 points] Identify and explain interesting relationships between features and the class you are trying to predict (i.e., relationships with variables and the target classification).\n",
    "\n",
    "\n",
    "\n",
    "So far interesting vars\n",
    "* Victim Age\n",
    "* LAT/Lon\n",
    "* Area"
   ]
  },
  {
   "cell_type": "code",
   "execution_count": null,
   "metadata": {},
   "outputs": [],
   "source": [
    "\n"
   ]
  },
  {
   "cell_type": "markdown",
   "metadata": {},
   "source": [
    "# New Features\n",
    "#### [5 points] Are there other features that could be added to the data or created from existing features? Which ones?\n",
    "\n",
    "\n",
    "\n",
    "Ages bucketed\n",
    "* Pre-school\n",
    "* School-Age\n",
    "* Early Twenties\n",
    "* Late Twenties\n",
    "* Thirties\n",
    "* Fourties\n",
    "* Fifties\n",
    "\n",
    "Time to Report\n",
    "* Time reported - Time Occurred\n",
    "\n",
    "Mocodes\n",
    "* Finding the most prevalent codes among the lists and dummy coding \n",
    "\n",
    "Weapon Noted\n",
    "* Weapon Used - Not Reported\n",
    "\n",
    "Number of Charges\n",
    "* Crime code 1-4 Not null count\n",
    "\n",
    "Reported as a Block\n",
    "* Yes if Cross-street is null/blank\n",
    "\n",
    "Time occurrence in relation to time of year\n",
    "* Sunrise\n",
    "* Day\n",
    "* Sunset\n",
    "* Evening\n",
    "\n",
    "Parsed Date Data\n",
    "* Month\n",
    "* Year\n",
    "* Day of Week"
   ]
  },
  {
   "cell_type": "markdown",
   "metadata": {},
   "source": [
    "# Exceptional Work (10 points total)\n",
    "###### • You have free reign to provide additional analyses.\n",
    "###### • One idea: implement dimensionality reduction, then visualize and interpret the results."
   ]
  },
  {
   "cell_type": "code",
   "execution_count": null,
   "metadata": {},
   "outputs": [],
   "source": []
  }
 ],
 "metadata": {
  "kernelspec": {
   "display_name": "Python 3",
   "language": "python",
   "name": "python3"
  },
  "language_info": {
   "codemirror_mode": {
    "name": "ipython",
    "version": 3
   },
   "file_extension": ".py",
   "mimetype": "text/x-python",
   "name": "python",
   "nbconvert_exporter": "python",
   "pygments_lexer": "ipython3",
   "version": "3.7.1"
  }
 },
 "nbformat": 4,
 "nbformat_minor": 4
}
