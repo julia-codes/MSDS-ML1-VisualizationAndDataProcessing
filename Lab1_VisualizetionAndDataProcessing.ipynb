{
 "cells": [
  {
   "cell_type": "markdown",
   "metadata": {},
   "source": [
    "# Business Understanding\n",
    "\n",
    "\n",
    "This Los Angelas crime dataset was supplied by LA County. It uses uniform crime reporting (UCR) created by the FBI to summarize incident info in a repeatable and comparable way to other cities, counties, and states. The LA City Mayor wrote that the purpose of the data was for transparency's sake as well as encouraging those outside of the government to be able to use the data for the sake of innovation.\n",
    "[Ref: https://data.lacity.org/]\n",
    "\n",
    "* Add what our determined response is and follow formatting from class\n",
    "\n",
    "\n",
    "\n",
    "We are sharing city data with the public to increase transparency, accountability and customer service and to empower companies, individuals and non-profit organizations with the ability to harness a vast array of useful information to improve life in our city. I hope that this data will help drive innovation and problem solving within the public and private sectors and that Angelenos will use it to more deeply understand and engage with their city. I encourage you to explore data.lacity.org to conduct research, develop apps or simply to poke around.\n",
    "[Ref: https://data.lacity.org/]\n",
    "\n",
    "(WHAT VARIABLE WE CARE ABOUT)"
   ]
  },
  {
   "cell_type": "code",
   "execution_count": 3,
   "metadata": {},
   "outputs": [],
   "source": [
    "import pandas as pd"
   ]
  },
  {
   "cell_type": "code",
   "execution_count": 51,
   "metadata": {},
   "outputs": [],
   "source": [
    "\n",
    "import matplotlib.pyplot as plt\n",
    "import descartes\n",
    "import geopandas as gpd\n",
    "from shapely.geometry import Point, Polygon\n",
    "\n",
    "%matplotlib inline\n",
    "df = pd.read_csv(\"Data/Crime_Data_from_2010_to_2019.csv\") "
   ]
  },
  {
   "cell_type": "markdown",
   "metadata": {},
   "source": [
    "# [10 points] Describe the meaning and type of data (scale, values, etc.) for each attribute in the data file.\n",
    "\n",
    "The table below describes the meaning and data type for each attribute in the data file.\n",
    "\n",
    "*[Ref: Information displayed below is sourced from [LOS ANGELES OPEN DATA](https://data.lacity.org/A-Safe-City/Crime-Data-from-2010-to-2019/63jg-8b9z).]*"
   ]
  },
  {
   "cell_type": "code",
   "execution_count": 4,
   "metadata": {},
   "outputs": [
    {
     "data": {
      "text/html": [
       "<table border=\"1\" class=\"dataframe\">\n",
       "  <thead>\n",
       "    <tr style=\"text-align: right;\">\n",
       "      <th></th>\n",
       "      <th>Column_Name</th>\n",
       "      <th>Description</th>\n",
       "      <th>Data_Type</th>\n",
       "    </tr>\n",
       "  </thead>\n",
       "  <tbody>\n",
       "    <tr>\n",
       "      <th>0</th>\n",
       "      <td>DR_NO</td>\n",
       "      <td>Division of Records Number: Official file number made up of a 2 digit year, area ID, and 5 digits</td>\n",
       "      <td>Plain Text</td>\n",
       "    </tr>\n",
       "    <tr>\n",
       "      <th>1</th>\n",
       "      <td>Date Rptd</td>\n",
       "      <td>MM/DD/YYYY</td>\n",
       "      <td>Date &amp; Time</td>\n",
       "    </tr>\n",
       "    <tr>\n",
       "      <th>2</th>\n",
       "      <td>DATE OCC</td>\n",
       "      <td>MM/DD/YYYY</td>\n",
       "      <td>Date &amp; Time</td>\n",
       "    </tr>\n",
       "    <tr>\n",
       "      <th>3</th>\n",
       "      <td>TIME OCC</td>\n",
       "      <td>In 24 hour military time.</td>\n",
       "      <td>Plain Text</td>\n",
       "    </tr>\n",
       "    <tr>\n",
       "      <th>4</th>\n",
       "      <td>AREA</td>\n",
       "      <td>The LAPD has 21 Community Police Stations referred to as Geographic Areas within the department. These Geographic Areas are sequentially numbered from 1-21.</td>\n",
       "      <td>Plain Text</td>\n",
       "    </tr>\n",
       "    <tr>\n",
       "      <th>5</th>\n",
       "      <td>AREA NAME</td>\n",
       "      <td>The 21 Geographic Areas or Patrol Divisions are also given a name designation that references a landmark or the surrounding community that it is responsible for. For example 77th Street Division is located at the intersection of South Broadway and 77th Street, serving neighborhoods in South Los Angeles.</td>\n",
       "      <td>Plain Text</td>\n",
       "    </tr>\n",
       "    <tr>\n",
       "      <th>6</th>\n",
       "      <td>Rpt Dist No</td>\n",
       "      <td>A four-digit code that represents a sub-area within a Geographic Area. All crime records reference the \"RD\" that it occurred in for statistical comparisons. Find LAPD Reporting Districts on the LA City GeoHub at http://geohub.lacity.org/datasets/c4f83909b81d4786aa8ba8a74a4b4db1_4</td>\n",
       "      <td>Plain Text</td>\n",
       "    </tr>\n",
       "    <tr>\n",
       "      <th>7</th>\n",
       "      <td>Part 1-2</td>\n",
       "      <td>-</td>\n",
       "      <td>Number</td>\n",
       "    </tr>\n",
       "    <tr>\n",
       "      <th>8</th>\n",
       "      <td>Crm Cd</td>\n",
       "      <td>Indicates the crime committed. (Same as Crime Code 1)</td>\n",
       "      <td>Plain Text</td>\n",
       "    </tr>\n",
       "    <tr>\n",
       "      <th>9</th>\n",
       "      <td>Crm Cd Desc</td>\n",
       "      <td>Defines the Crime Code provided.</td>\n",
       "      <td>Plain Text</td>\n",
       "    </tr>\n",
       "    <tr>\n",
       "      <th>10</th>\n",
       "      <td>Mocodes</td>\n",
       "      <td>Modus Operandi: Activities associated with the suspect in commission of the crime.See attached PDF for list of MO Codes in numerical order. https://data.lacity.org/api/views/y8tr-7khq/files/3a967fbd-f210-4857-bc52-60230efe256c?download=true&amp;filename=MO%20CODES%20(numerical%20order).pdf</td>\n",
       "      <td>Plain Text</td>\n",
       "    </tr>\n",
       "    <tr>\n",
       "      <th>11</th>\n",
       "      <td>Vict Age</td>\n",
       "      <td>Two character numeric</td>\n",
       "      <td>Plain Text</td>\n",
       "    </tr>\n",
       "    <tr>\n",
       "      <th>12</th>\n",
       "      <td>Vict Sex</td>\n",
       "      <td>F - Female M - Male X - Unknown</td>\n",
       "      <td>Plain Text</td>\n",
       "    </tr>\n",
       "    <tr>\n",
       "      <th>13</th>\n",
       "      <td>Vict Descent</td>\n",
       "      <td>Descent Code: A - Other Asian B - Black C - Chinese D - Cambodian F - Filipino G - Guamanian H - Hispanic/Latin/Mexican I - American Indian/Alaskan Native J - Japanese K - Korean L - Laotian O - Other P - Pacific Islander S - Samoan U - Hawaiian V - Vietnamese W - White X - Unknown Z - Asian Indian</td>\n",
       "      <td>Plain Text</td>\n",
       "    </tr>\n",
       "    <tr>\n",
       "      <th>14</th>\n",
       "      <td>Premis Cd</td>\n",
       "      <td>The type of structure, vehicle, or location where the crime took place.</td>\n",
       "      <td>Plain Text</td>\n",
       "    </tr>\n",
       "    <tr>\n",
       "      <th>15</th>\n",
       "      <td>Premis Desc</td>\n",
       "      <td>Defines the Premise Code provided.</td>\n",
       "      <td>Plain Text</td>\n",
       "    </tr>\n",
       "    <tr>\n",
       "      <th>16</th>\n",
       "      <td>Weapon Used Cd</td>\n",
       "      <td>The type of weapon used in the crime.</td>\n",
       "      <td>Plain Text</td>\n",
       "    </tr>\n",
       "    <tr>\n",
       "      <th>17</th>\n",
       "      <td>Weapon Desc</td>\n",
       "      <td>Defines the Weapon Used Code provided.</td>\n",
       "      <td>Plain Text</td>\n",
       "    </tr>\n",
       "    <tr>\n",
       "      <th>18</th>\n",
       "      <td>Status</td>\n",
       "      <td>Status of the case. (IC is the default)</td>\n",
       "      <td>Plain Text</td>\n",
       "    </tr>\n",
       "    <tr>\n",
       "      <th>19</th>\n",
       "      <td>Status Desc</td>\n",
       "      <td>Defines the Status Code provided.</td>\n",
       "      <td>Plain Text</td>\n",
       "    </tr>\n",
       "    <tr>\n",
       "      <th>20</th>\n",
       "      <td>Crm Cd 1</td>\n",
       "      <td>Indicates the crime committed. Crime Code 1 is the primary and most serious one. Crime Code 2, 3, and 4 are respectively less serious offenses. Lower crime class numbers are more serious.</td>\n",
       "      <td>Plain Text</td>\n",
       "    </tr>\n",
       "    <tr>\n",
       "      <th>21</th>\n",
       "      <td>Crm Cd 2</td>\n",
       "      <td>May contain a code for an additional crime, less serious than Crime Code 1.</td>\n",
       "      <td>Plain Text</td>\n",
       "    </tr>\n",
       "    <tr>\n",
       "      <th>22</th>\n",
       "      <td>Crm Cd 3</td>\n",
       "      <td>May contain a code for an additional crime, less serious than Crime Code 1.</td>\n",
       "      <td>Plain Text</td>\n",
       "    </tr>\n",
       "    <tr>\n",
       "      <th>23</th>\n",
       "      <td>Crm Cd 4</td>\n",
       "      <td>May contain a code for an additional crime, less serious than Crime Code 1.</td>\n",
       "      <td>Plain Text</td>\n",
       "    </tr>\n",
       "    <tr>\n",
       "      <th>24</th>\n",
       "      <td>LOCATION</td>\n",
       "      <td>Street address of crime incident rounded to the nearest hundred block to maintain anonymity.</td>\n",
       "      <td>Plain Text</td>\n",
       "    </tr>\n",
       "    <tr>\n",
       "      <th>25</th>\n",
       "      <td>Cross Street</td>\n",
       "      <td>Cross Street of rounded Address</td>\n",
       "      <td>Plain Text</td>\n",
       "    </tr>\n",
       "    <tr>\n",
       "      <th>26</th>\n",
       "      <td>LAT</td>\n",
       "      <td>Latitude</td>\n",
       "      <td>Number</td>\n",
       "    </tr>\n",
       "    <tr>\n",
       "      <th>27</th>\n",
       "      <td>LON</td>\n",
       "      <td>Longtitude</td>\n",
       "      <td>Number</td>\n",
       "    </tr>\n",
       "  </tbody>\n",
       "</table>"
      ],
      "text/plain": [
       "<IPython.core.display.HTML object>"
      ]
     },
     "metadata": {},
     "output_type": "display_data"
    }
   ],
   "source": [
    "data_desc = pd.read_csv('data/Data_Description.csv')\n",
    "\n",
    "from IPython.display import display, HTML\n",
    "\n",
    "display(HTML(data_desc.to_html()))"
   ]
  },
  {
   "cell_type": "markdown",
   "metadata": {},
   "source": [
    "# Data Meaning Type"
   ]
  },
  {
   "cell_type": "code",
   "execution_count": 52,
   "metadata": {},
   "outputs": [
    {
     "name": "stdout",
     "output_type": "stream",
     "text": [
      "<class 'pandas.core.frame.DataFrame'>\n",
      "RangeIndex: 2115333 entries, 0 to 2115332\n",
      "Data columns (total 28 columns):\n",
      " #   Column          Dtype  \n",
      "---  ------          -----  \n",
      " 0   DR_NO           int64  \n",
      " 1   Date Rptd       object \n",
      " 2   DATE OCC        object \n",
      " 3   TIME OCC        int64  \n",
      " 4   AREA            int64  \n",
      " 5   AREA NAME       object \n",
      " 6   Rpt Dist No     int64  \n",
      " 7   Part 1-2        int64  \n",
      " 8   Crm Cd          int64  \n",
      " 9   Crm Cd Desc     object \n",
      " 10  Mocodes         object \n",
      " 11  Vict Age        int64  \n",
      " 12  Vict Sex        object \n",
      " 13  Vict Descent    object \n",
      " 14  Premis Cd       float64\n",
      " 15  Premis Desc     object \n",
      " 16  Weapon Used Cd  float64\n",
      " 17  Weapon Desc     object \n",
      " 18  Status          object \n",
      " 19  Status Desc     object \n",
      " 20  Crm Cd 1        float64\n",
      " 21  Crm Cd 2        float64\n",
      " 22  Crm Cd 3        float64\n",
      " 23  Crm Cd 4        float64\n",
      " 24  LOCATION        object \n",
      " 25  Cross Street    object \n",
      " 26  LAT             float64\n",
      " 27  LON             float64\n",
      "dtypes: float64(8), int64(7), object(13)\n",
      "memory usage: 451.9+ MB\n"
     ]
    }
   ],
   "source": [
    "df.head()\n",
    "df.info()"
   ]
  },
  {
   "cell_type": "markdown",
   "metadata": {},
   "source": [
    "# Data Quality"
   ]
  },
  {
   "cell_type": "markdown",
   "metadata": {},
   "source": [
    "There are 898 crimes without a location noted"
   ]
  },
  {
   "cell_type": "code",
   "execution_count": 53,
   "metadata": {},
   "outputs": [
    {
     "data": {
      "text/plain": [
       "898"
      ]
     },
     "execution_count": 53,
     "metadata": {},
     "output_type": "execute_result"
    }
   ],
   "source": [
    "emptyLATLON =  sum(df['LON']==0)\n",
    "emptyLATLON"
   ]
  },
  {
   "cell_type": "markdown",
   "metadata": {},
   "source": [
    "To better plot, we could setting these to mean points."
   ]
  },
  {
   "cell_type": "code",
   "execution_count": 34,
   "metadata": {},
   "outputs": [
    {
     "ename": "NameError",
     "evalue": "name 'gdp' is not defined",
     "output_type": "error",
     "traceback": [
      "\u001b[0;31m---------------------------------------------------------------------------\u001b[0m",
      "\u001b[0;31mNameError\u001b[0m                                 Traceback (most recent call last)",
      "\u001b[0;32m<ipython-input-34-5ce070cf5efd>\u001b[0m in \u001b[0;36m<module>\u001b[0;34m\u001b[0m\n\u001b[0;32m----> 1\u001b[0;31m \u001b[0mla_map\u001b[0m \u001b[0;34m=\u001b[0m \u001b[0mgdp\u001b[0m\u001b[0;34m.\u001b[0m\u001b[0mread_file\u001b[0m\u001b[0;34m(\u001b[0m\u001b[0;34m'Data/City_Boundaries.shp'\u001b[0m\u001b[0;34m)\u001b[0m\u001b[0;34m\u001b[0m\u001b[0m\n\u001b[0m\u001b[1;32m      2\u001b[0m \u001b[0mstreet_map\u001b[0m\u001b[0;34m.\u001b[0m\u001b[0mplot\u001b[0m\u001b[0;34m(\u001b[0m\u001b[0max\u001b[0m\u001b[0;34m=\u001b[0m\u001b[0max\u001b[0m\u001b[0;34m)\u001b[0m\u001b[0;34m\u001b[0m\u001b[0m\n\u001b[1;32m      3\u001b[0m \u001b[0;34m\u001b[0m\u001b[0m\n\u001b[1;32m      4\u001b[0m \u001b[0;31m#34.06377       -118.3088\u001b[0m\u001b[0;34m\u001b[0m\u001b[0;34m\u001b[0m\u001b[0m\n",
      "\u001b[0;31mNameError\u001b[0m: name 'gdp' is not defined"
     ]
    }
   ],
   "source": [
    "\n",
    "\n",
    "#34.06377 \t-118.3088"
   ]
  },
  {
   "cell_type": "markdown",
   "metadata": {},
   "source": [
    "# Simple Statistics"
   ]
  },
  {
   "cell_type": "code",
   "execution_count": 54,
   "metadata": {},
   "outputs": [
    {
     "data": {
      "text/html": [
       "<div>\n",
       "<style scoped>\n",
       "    .dataframe tbody tr th:only-of-type {\n",
       "        vertical-align: middle;\n",
       "    }\n",
       "\n",
       "    .dataframe tbody tr th {\n",
       "        vertical-align: top;\n",
       "    }\n",
       "\n",
       "    .dataframe thead th {\n",
       "        text-align: right;\n",
       "    }\n",
       "</style>\n",
       "<table border=\"1\" class=\"dataframe\">\n",
       "  <thead>\n",
       "    <tr style=\"text-align: right;\">\n",
       "      <th></th>\n",
       "      <th>DR_NO</th>\n",
       "      <th>TIME OCC</th>\n",
       "      <th>AREA</th>\n",
       "      <th>Rpt Dist No</th>\n",
       "      <th>Part 1-2</th>\n",
       "      <th>Crm Cd</th>\n",
       "      <th>Vict Age</th>\n",
       "      <th>Premis Cd</th>\n",
       "      <th>Weapon Used Cd</th>\n",
       "      <th>Crm Cd 1</th>\n",
       "      <th>Crm Cd 2</th>\n",
       "      <th>Crm Cd 3</th>\n",
       "      <th>Crm Cd 4</th>\n",
       "      <th>LAT</th>\n",
       "      <th>LON</th>\n",
       "    </tr>\n",
       "  </thead>\n",
       "  <tbody>\n",
       "    <tr>\n",
       "      <th>count</th>\n",
       "      <td>2.115333e+06</td>\n",
       "      <td>2.115333e+06</td>\n",
       "      <td>2.115333e+06</td>\n",
       "      <td>2.115333e+06</td>\n",
       "      <td>2.115333e+06</td>\n",
       "      <td>2.115333e+06</td>\n",
       "      <td>2.115333e+06</td>\n",
       "      <td>2.115280e+06</td>\n",
       "      <td>710470.000000</td>\n",
       "      <td>2.115323e+06</td>\n",
       "      <td>139402.000000</td>\n",
       "      <td>3499.000000</td>\n",
       "      <td>104.000000</td>\n",
       "      <td>2.115333e+06</td>\n",
       "      <td>2.115333e+06</td>\n",
       "    </tr>\n",
       "    <tr>\n",
       "      <th>mean</th>\n",
       "      <td>1.479209e+08</td>\n",
       "      <td>1.359865e+03</td>\n",
       "      <td>1.108682e+01</td>\n",
       "      <td>1.155070e+03</td>\n",
       "      <td>1.446029e+00</td>\n",
       "      <td>5.073349e+02</td>\n",
       "      <td>3.176409e+01</td>\n",
       "      <td>3.111814e+02</td>\n",
       "      <td>371.371934</td>\n",
       "      <td>5.071590e+02</td>\n",
       "      <td>949.996428</td>\n",
       "      <td>972.210346</td>\n",
       "      <td>975.105769</td>\n",
       "      <td>3.406377e+01</td>\n",
       "      <td>-1.183088e+02</td>\n",
       "    </tr>\n",
       "    <tr>\n",
       "      <th>std</th>\n",
       "      <td>2.887068e+07</td>\n",
       "      <td>6.470967e+02</td>\n",
       "      <td>6.012440e+00</td>\n",
       "      <td>6.012589e+02</td>\n",
       "      <td>4.970787e-01</td>\n",
       "      <td>2.106272e+02</td>\n",
       "      <td>2.064750e+01</td>\n",
       "      <td>2.113121e+02</td>\n",
       "      <td>113.469024</td>\n",
       "      <td>2.104900e+02</td>\n",
       "      <td>125.680743</td>\n",
       "      <td>85.516627</td>\n",
       "      <td>81.276338</td>\n",
       "      <td>7.115120e-01</td>\n",
       "      <td>2.440446e+00</td>\n",
       "    </tr>\n",
       "    <tr>\n",
       "      <th>min</th>\n",
       "      <td>1.208575e+06</td>\n",
       "      <td>1.000000e+00</td>\n",
       "      <td>1.000000e+00</td>\n",
       "      <td>1.000000e+02</td>\n",
       "      <td>1.000000e+00</td>\n",
       "      <td>1.100000e+02</td>\n",
       "      <td>-9.000000e+00</td>\n",
       "      <td>1.010000e+02</td>\n",
       "      <td>101.000000</td>\n",
       "      <td>1.100000e+02</td>\n",
       "      <td>210.000000</td>\n",
       "      <td>93.000000</td>\n",
       "      <td>421.000000</td>\n",
       "      <td>0.000000e+00</td>\n",
       "      <td>-1.188279e+02</td>\n",
       "    </tr>\n",
       "    <tr>\n",
       "      <th>25%</th>\n",
       "      <td>1.214242e+08</td>\n",
       "      <td>9.300000e+02</td>\n",
       "      <td>6.000000e+00</td>\n",
       "      <td>6.430000e+02</td>\n",
       "      <td>1.000000e+00</td>\n",
       "      <td>3.300000e+02</td>\n",
       "      <td>2.000000e+01</td>\n",
       "      <td>1.020000e+02</td>\n",
       "      <td>400.000000</td>\n",
       "      <td>3.300000e+02</td>\n",
       "      <td>998.000000</td>\n",
       "      <td>998.000000</td>\n",
       "      <td>998.000000</td>\n",
       "      <td>3.401050e+01</td>\n",
       "      <td>-1.184364e+02</td>\n",
       "    </tr>\n",
       "    <tr>\n",
       "      <th>50%</th>\n",
       "      <td>1.508087e+08</td>\n",
       "      <td>1.430000e+03</td>\n",
       "      <td>1.100000e+01</td>\n",
       "      <td>1.189000e+03</td>\n",
       "      <td>1.000000e+00</td>\n",
       "      <td>4.420000e+02</td>\n",
       "      <td>3.200000e+01</td>\n",
       "      <td>2.100000e+02</td>\n",
       "      <td>400.000000</td>\n",
       "      <td>4.420000e+02</td>\n",
       "      <td>998.000000</td>\n",
       "      <td>998.000000</td>\n",
       "      <td>998.000000</td>\n",
       "      <td>3.406230e+01</td>\n",
       "      <td>-1.183295e+02</td>\n",
       "    </tr>\n",
       "    <tr>\n",
       "      <th>75%</th>\n",
       "      <td>1.715119e+08</td>\n",
       "      <td>1.900000e+03</td>\n",
       "      <td>1.600000e+01</td>\n",
       "      <td>1.668000e+03</td>\n",
       "      <td>2.000000e+00</td>\n",
       "      <td>6.260000e+02</td>\n",
       "      <td>4.600000e+01</td>\n",
       "      <td>5.010000e+02</td>\n",
       "      <td>400.000000</td>\n",
       "      <td>6.260000e+02</td>\n",
       "      <td>998.000000</td>\n",
       "      <td>998.000000</td>\n",
       "      <td>998.000000</td>\n",
       "      <td>3.417580e+01</td>\n",
       "      <td>-1.182778e+02</td>\n",
       "    </tr>\n",
       "    <tr>\n",
       "      <th>max</th>\n",
       "      <td>9.102204e+08</td>\n",
       "      <td>2.359000e+03</td>\n",
       "      <td>2.100000e+01</td>\n",
       "      <td>2.199000e+03</td>\n",
       "      <td>2.000000e+00</td>\n",
       "      <td>9.560000e+02</td>\n",
       "      <td>1.180000e+02</td>\n",
       "      <td>9.710000e+02</td>\n",
       "      <td>516.000000</td>\n",
       "      <td>9.990000e+02</td>\n",
       "      <td>999.000000</td>\n",
       "      <td>999.000000</td>\n",
       "      <td>999.000000</td>\n",
       "      <td>3.479070e+01</td>\n",
       "      <td>0.000000e+00</td>\n",
       "    </tr>\n",
       "  </tbody>\n",
       "</table>\n",
       "</div>"
      ],
      "text/plain": [
       "              DR_NO      TIME OCC         AREA    Rpt Dist No      Part 1-2  \\\n",
       "count  2.115333e+06  2.115333e+06  2.115333e+06  2.115333e+06  2.115333e+06   \n",
       "mean   1.479209e+08  1.359865e+03  1.108682e+01  1.155070e+03  1.446029e+00   \n",
       "std    2.887068e+07  6.470967e+02  6.012440e+00  6.012589e+02  4.970787e-01   \n",
       "min    1.208575e+06  1.000000e+00  1.000000e+00  1.000000e+02  1.000000e+00   \n",
       "25%    1.214242e+08  9.300000e+02  6.000000e+00  6.430000e+02  1.000000e+00   \n",
       "50%    1.508087e+08  1.430000e+03  1.100000e+01  1.189000e+03  1.000000e+00   \n",
       "75%    1.715119e+08  1.900000e+03  1.600000e+01  1.668000e+03  2.000000e+00   \n",
       "max    9.102204e+08  2.359000e+03  2.100000e+01  2.199000e+03  2.000000e+00   \n",
       "\n",
       "             Crm Cd      Vict Age     Premis Cd  Weapon Used Cd      Crm Cd 1  \\\n",
       "count  2.115333e+06  2.115333e+06  2.115280e+06   710470.000000  2.115323e+06   \n",
       "mean   5.073349e+02  3.176409e+01  3.111814e+02      371.371934  5.071590e+02   \n",
       "std    2.106272e+02  2.064750e+01  2.113121e+02      113.469024  2.104900e+02   \n",
       "min    1.100000e+02 -9.000000e+00  1.010000e+02      101.000000  1.100000e+02   \n",
       "25%    3.300000e+02  2.000000e+01  1.020000e+02      400.000000  3.300000e+02   \n",
       "50%    4.420000e+02  3.200000e+01  2.100000e+02      400.000000  4.420000e+02   \n",
       "75%    6.260000e+02  4.600000e+01  5.010000e+02      400.000000  6.260000e+02   \n",
       "max    9.560000e+02  1.180000e+02  9.710000e+02      516.000000  9.990000e+02   \n",
       "\n",
       "            Crm Cd 2     Crm Cd 3    Crm Cd 4           LAT           LON  \n",
       "count  139402.000000  3499.000000  104.000000  2.115333e+06  2.115333e+06  \n",
       "mean      949.996428   972.210346  975.105769  3.406377e+01 -1.183088e+02  \n",
       "std       125.680743    85.516627   81.276338  7.115120e-01  2.440446e+00  \n",
       "min       210.000000    93.000000  421.000000  0.000000e+00 -1.188279e+02  \n",
       "25%       998.000000   998.000000  998.000000  3.401050e+01 -1.184364e+02  \n",
       "50%       998.000000   998.000000  998.000000  3.406230e+01 -1.183295e+02  \n",
       "75%       998.000000   998.000000  998.000000  3.417580e+01 -1.182778e+02  \n",
       "max       999.000000   999.000000  999.000000  3.479070e+01  0.000000e+00  "
      ]
     },
     "execution_count": 54,
     "metadata": {},
     "output_type": "execute_result"
    }
   ],
   "source": [
    "df.describe()"
   ]
  },
  {
   "cell_type": "markdown",
   "metadata": {},
   "source": [
    " Victim Age appears to be highest in the twenties and goes down from there.\n",
    " 0 - may be no age given check for NaN"
   ]
  },
  {
   "cell_type": "code",
   "execution_count": 55,
   "metadata": {},
   "outputs": [
    {
     "data": {
      "text/plain": [
       "array([[<matplotlib.axes._subplots.AxesSubplot object at 0x15000ca90>]],\n",
       "      dtype=object)"
      ]
     },
     "execution_count": 55,
     "metadata": {},
     "output_type": "execute_result"
    },
    {
     "data": {
      "image/png": "[encoded data removed]",
      "text/plain": [
       "<Figure size 432x288 with 1 Axes>"
      ]
     },
     "metadata": {
      "needs_background": "light"
     },
     "output_type": "display_data"
    },
    {
     "data": {
      "image/png": "[encoded data removed]",
      "text/plain": [
       "<Figure size 432x288 with 1 Axes>"
      ]
     },
     "metadata": {
      "needs_background": "light"
     },
     "output_type": "display_data"
    },
    {
     "data": {
      "image/png": "[encoded data removed]",
      "text/plain": [
       "<Figure size 432x288 with 1 Axes>"
      ]
     },
     "metadata": {
      "needs_background": "light"
     },
     "output_type": "display_data"
    }
   ],
   "source": [
    "df.hist(column='Vict Age')\n",
    "df.hist(column='TIME OCC')\n",
    "df.hist(column='Rpt Dist No')\n"
   ]
  },
  {
   "cell_type": "markdown",
   "metadata": {},
   "source": [
    "# Visualize Attributes\n",
    "\n",
    "https://towardsdatascience.com/geopandas-101-plot-any-data-with-a-latitude-and-longitude-on-a-map-98e01944b972\n",
    "\n",
    "This is using "
   ]
  },
  {
   "cell_type": "code",
   "execution_count": 77,
   "metadata": {},
   "outputs": [
    {
     "name": "stderr",
     "output_type": "stream",
     "text": [
      "WARNING:root:Requests made without an app_token will be subject to strict throttling limits.\n"
     ]
    }
   ],
   "source": [
    "#!/usr/bin/env python\n",
    "\n",
    "# make sure to install these packages before running:\n",
    "# pip install pandas\n",
    "# pip install sodapy\n",
    "\n",
    "import pandas as pd\n",
    "from sodapy import Socrata\n",
    "\n",
    "# Unauthenticated client only works with public data sets. Note 'None'\n",
    "# in place of application token, and no username or password:\n",
    "client = Socrata(\"data.lacity.org\", None)\n",
    "\n",
    "# Example authenticated client (needed for non-public datasets):\n",
    "# client = Socrata(data.lacity.org,\n",
    "#                  MyAppToken,\n",
    "#                  userame=\"user@example.com\",\n",
    "#                  password=\"AFakePassword\")\n",
    "\n",
    "# First 2000 results, returned as JSON from API / converted to Python list of\n",
    "# dictionaries by sodapy.\n",
    "results = client.get(\"63jg-8b9z\", limit=5000)\n",
    "\n",
    "# Convert to pandas DataFrame\n",
    "results_df = pd.DataFrame.from_records(results)\n",
    "results_df.head()\n",
    "\n",
    "results_df['lat'] = results_df['lat'].astype(float)\n",
    "results_df['lon'] = results_df['lon'].astype(float)\n",
    "\n",
    "#results_df.lat = int(results_df.lat)\n",
    "#results_df.lat = int(results_df.lon)"
   ]
  },
  {
   "cell_type": "code",
   "execution_count": 78,
   "metadata": {},
   "outputs": [
    {
     "data": {
      "text/plain": [
       "[<shapely.geometry.point.Point at 0x1bd6f6668>,\n",
       " <shapely.geometry.point.Point at 0x1bd6f6048>,\n",
       " <shapely.geometry.point.Point at 0x1bd6f6240>]"
      ]
     },
     "execution_count": 78,
     "metadata": {},
     "output_type": "execute_result"
    }
   ],
   "source": [
    "\n",
    "#create a geopandas dataframe and convert lat/long to point geometry:\n",
    "geometry = [Point(xy) for xy in zip(results_df[\"lon\"], results_df[\"lat\"])]\n",
    "geometry[:3]"
   ]
  },
  {
   "cell_type": "code",
   "execution_count": 79,
   "metadata": {},
   "outputs": [
    {
     "data": {
      "text/html": [
       "<div>\n",
       "<style scoped>\n",
       "    .dataframe tbody tr th:only-of-type {\n",
       "        vertical-align: middle;\n",
       "    }\n",
       "\n",
       "    .dataframe tbody tr th {\n",
       "        vertical-align: top;\n",
       "    }\n",
       "\n",
       "    .dataframe thead th {\n",
       "        text-align: right;\n",
       "    }\n",
       "</style>\n",
       "<table border=\"1\" class=\"dataframe\">\n",
       "  <thead>\n",
       "    <tr style=\"text-align: right;\">\n",
       "      <th></th>\n",
       "      <th>dr_no</th>\n",
       "      <th>date_rptd</th>\n",
       "      <th>date_occ</th>\n",
       "      <th>time_occ</th>\n",
       "      <th>area</th>\n",
       "      <th>area_name</th>\n",
       "      <th>rpt_dist_no</th>\n",
       "      <th>part_1_2</th>\n",
       "      <th>crm_cd</th>\n",
       "      <th>crm_cd_desc</th>\n",
       "      <th>...</th>\n",
       "      <th>crm_cd_1</th>\n",
       "      <th>location</th>\n",
       "      <th>lat</th>\n",
       "      <th>lon</th>\n",
       "      <th>cross_street</th>\n",
       "      <th>weapon_used_cd</th>\n",
       "      <th>weapon_desc</th>\n",
       "      <th>crm_cd_2</th>\n",
       "      <th>crm_cd_3</th>\n",
       "      <th>geometry</th>\n",
       "    </tr>\n",
       "  </thead>\n",
       "  <tbody>\n",
       "    <tr>\n",
       "      <th>0</th>\n",
       "      <td>001307355</td>\n",
       "      <td>2010-02-20T00:00:00.000</td>\n",
       "      <td>2010-02-20T00:00:00.000</td>\n",
       "      <td>1350</td>\n",
       "      <td>13</td>\n",
       "      <td>Newton</td>\n",
       "      <td>1385</td>\n",
       "      <td>2</td>\n",
       "      <td>900</td>\n",
       "      <td>VIOLATION OF COURT ORDER</td>\n",
       "      <td>...</td>\n",
       "      <td>900</td>\n",
       "      <td>300 E  GAGE                         AV</td>\n",
       "      <td>33.9825</td>\n",
       "      <td>-118.2695</td>\n",
       "      <td>NaN</td>\n",
       "      <td>NaN</td>\n",
       "      <td>NaN</td>\n",
       "      <td>NaN</td>\n",
       "      <td>NaN</td>\n",
       "      <td>POINT (-118.26950 33.98250)</td>\n",
       "    </tr>\n",
       "    <tr>\n",
       "      <th>1</th>\n",
       "      <td>011401303</td>\n",
       "      <td>2010-09-13T00:00:00.000</td>\n",
       "      <td>2010-09-12T00:00:00.000</td>\n",
       "      <td>0045</td>\n",
       "      <td>14</td>\n",
       "      <td>Pacific</td>\n",
       "      <td>1485</td>\n",
       "      <td>2</td>\n",
       "      <td>740</td>\n",
       "      <td>VANDALISM - FELONY ($400 &amp; OVER, ALL CHURCH VA...</td>\n",
       "      <td>...</td>\n",
       "      <td>740</td>\n",
       "      <td>SEPULVEDA                    BL</td>\n",
       "      <td>33.9599</td>\n",
       "      <td>-118.3962</td>\n",
       "      <td>MANCHESTER                   AV</td>\n",
       "      <td>NaN</td>\n",
       "      <td>NaN</td>\n",
       "      <td>NaN</td>\n",
       "      <td>NaN</td>\n",
       "      <td>POINT (-118.39620 33.95990)</td>\n",
       "    </tr>\n",
       "    <tr>\n",
       "      <th>2</th>\n",
       "      <td>070309629</td>\n",
       "      <td>2010-08-09T00:00:00.000</td>\n",
       "      <td>2010-08-09T00:00:00.000</td>\n",
       "      <td>1515</td>\n",
       "      <td>13</td>\n",
       "      <td>Newton</td>\n",
       "      <td>1324</td>\n",
       "      <td>2</td>\n",
       "      <td>946</td>\n",
       "      <td>OTHER MISCELLANEOUS CRIME</td>\n",
       "      <td>...</td>\n",
       "      <td>946</td>\n",
       "      <td>1300 E  21ST                         ST</td>\n",
       "      <td>34.0224</td>\n",
       "      <td>-118.2524</td>\n",
       "      <td>NaN</td>\n",
       "      <td>NaN</td>\n",
       "      <td>NaN</td>\n",
       "      <td>NaN</td>\n",
       "      <td>NaN</td>\n",
       "      <td>POINT (-118.25240 34.02240)</td>\n",
       "    </tr>\n",
       "    <tr>\n",
       "      <th>3</th>\n",
       "      <td>090631215</td>\n",
       "      <td>2010-01-05T00:00:00.000</td>\n",
       "      <td>2010-01-05T00:00:00.000</td>\n",
       "      <td>0150</td>\n",
       "      <td>06</td>\n",
       "      <td>Hollywood</td>\n",
       "      <td>0646</td>\n",
       "      <td>2</td>\n",
       "      <td>900</td>\n",
       "      <td>VIOLATION OF COURT ORDER</td>\n",
       "      <td>...</td>\n",
       "      <td>900</td>\n",
       "      <td>CAHUENGA                     BL</td>\n",
       "      <td>34.1016</td>\n",
       "      <td>-118.3295</td>\n",
       "      <td>HOLLYWOOD                    BL</td>\n",
       "      <td>102</td>\n",
       "      <td>HAND GUN</td>\n",
       "      <td>998</td>\n",
       "      <td>NaN</td>\n",
       "      <td>POINT (-118.32950 34.10160)</td>\n",
       "    </tr>\n",
       "    <tr>\n",
       "      <th>4</th>\n",
       "      <td>100100501</td>\n",
       "      <td>2010-01-03T00:00:00.000</td>\n",
       "      <td>2010-01-02T00:00:00.000</td>\n",
       "      <td>2100</td>\n",
       "      <td>01</td>\n",
       "      <td>Central</td>\n",
       "      <td>0176</td>\n",
       "      <td>1</td>\n",
       "      <td>122</td>\n",
       "      <td>RAPE, ATTEMPTED</td>\n",
       "      <td>...</td>\n",
       "      <td>122</td>\n",
       "      <td>8TH                          ST</td>\n",
       "      <td>34.0387</td>\n",
       "      <td>-118.2488</td>\n",
       "      <td>SAN PEDRO                    ST</td>\n",
       "      <td>400</td>\n",
       "      <td>STRONG-ARM (HANDS, FIST, FEET OR BODILY FORCE)</td>\n",
       "      <td>NaN</td>\n",
       "      <td>NaN</td>\n",
       "      <td>POINT (-118.24880 34.03870)</td>\n",
       "    </tr>\n",
       "  </tbody>\n",
       "</table>\n",
       "<p>5 rows × 28 columns</p>\n",
       "</div>"
      ],
      "text/plain": [
       "       dr_no                date_rptd                 date_occ time_occ area  \\\n",
       "0  001307355  2010-02-20T00:00:00.000  2010-02-20T00:00:00.000     1350   13   \n",
       "1  011401303  2010-09-13T00:00:00.000  2010-09-12T00:00:00.000     0045   14   \n",
       "2  070309629  2010-08-09T00:00:00.000  2010-08-09T00:00:00.000     1515   13   \n",
       "3  090631215  2010-01-05T00:00:00.000  2010-01-05T00:00:00.000     0150   06   \n",
       "4  100100501  2010-01-03T00:00:00.000  2010-01-02T00:00:00.000     2100   01   \n",
       "\n",
       "   area_name rpt_dist_no part_1_2 crm_cd  \\\n",
       "0     Newton        1385        2    900   \n",
       "1    Pacific        1485        2    740   \n",
       "2     Newton        1324        2    946   \n",
       "3  Hollywood        0646        2    900   \n",
       "4    Central        0176        1    122   \n",
       "\n",
       "                                         crm_cd_desc  ... crm_cd_1  \\\n",
       "0                           VIOLATION OF COURT ORDER  ...      900   \n",
       "1  VANDALISM - FELONY ($400 & OVER, ALL CHURCH VA...  ...      740   \n",
       "2                          OTHER MISCELLANEOUS CRIME  ...      946   \n",
       "3                           VIOLATION OF COURT ORDER  ...      900   \n",
       "4                                    RAPE, ATTEMPTED  ...      122   \n",
       "\n",
       "                                  location      lat       lon  \\\n",
       "0   300 E  GAGE                         AV  33.9825 -118.2695   \n",
       "1          SEPULVEDA                    BL  33.9599 -118.3962   \n",
       "2  1300 E  21ST                         ST  34.0224 -118.2524   \n",
       "3          CAHUENGA                     BL  34.1016 -118.3295   \n",
       "4          8TH                          ST  34.0387 -118.2488   \n",
       "\n",
       "                      cross_street weapon_used_cd  \\\n",
       "0                              NaN            NaN   \n",
       "1  MANCHESTER                   AV            NaN   \n",
       "2                              NaN            NaN   \n",
       "3  HOLLYWOOD                    BL            102   \n",
       "4  SAN PEDRO                    ST            400   \n",
       "\n",
       "                                      weapon_desc crm_cd_2 crm_cd_3  \\\n",
       "0                                             NaN      NaN      NaN   \n",
       "1                                             NaN      NaN      NaN   \n",
       "2                                             NaN      NaN      NaN   \n",
       "3                                        HAND GUN      998      NaN   \n",
       "4  STRONG-ARM (HANDS, FIST, FEET OR BODILY FORCE)      NaN      NaN   \n",
       "\n",
       "                      geometry  \n",
       "0  POINT (-118.26950 33.98250)  \n",
       "1  POINT (-118.39620 33.95990)  \n",
       "2  POINT (-118.25240 34.02240)  \n",
       "3  POINT (-118.32950 34.10160)  \n",
       "4  POINT (-118.24880 34.03870)  \n",
       "\n",
       "[5 rows x 28 columns]"
      ]
     },
     "execution_count": 79,
     "metadata": {},
     "output_type": "execute_result"
    }
   ],
   "source": [
    "#Tell it that we are using Lat/Long as our\n",
    "crs = {'init': 'epsg:4326'}\n",
    "\n",
    "geo_df = gpd.GeoDataFrame(results_df, crs = crs, geometry = geometry)\n",
    "geo_df.head()"
   ]
  },
  {
   "cell_type": "code",
   "execution_count": 67,
   "metadata": {},
   "outputs": [
    {
     "name": "stderr",
     "output_type": "stream",
     "text": [
      "/Users/juliacodes/Documents/GitHub/MSDS-ML1-VisualizationAndDataProcessing/Julia/lacrime-env/lib/python3.6/site-packages/ipykernel_launcher.py:2: UserWarning: Boolean Series key will be reindexed to match DataFrame index.\n",
      "  \n"
     ]
    },
    {
     "ename": "IndexingError",
     "evalue": "Unalignable boolean Series provided as indexer (index of the boolean Series and of the indexed object do not match).",
     "output_type": "error",
     "traceback": [
      "\u001b[0;31m---------------------------------------------------------------------------\u001b[0m",
      "\u001b[0;31mIndexingError\u001b[0m                             Traceback (most recent call last)",
      "\u001b[0;32m<ipython-input-67-8328ae3e4af5>\u001b[0m in \u001b[0;36m<module>\u001b[0;34m\u001b[0m\n\u001b[1;32m      1\u001b[0m \u001b[0mgeo_400\u001b[0m \u001b[0;34m=\u001b[0m \u001b[0mgeo_df\u001b[0m\u001b[0;34m[\u001b[0m\u001b[0mgeo_df\u001b[0m\u001b[0;34m[\u001b[0m\u001b[0;34m'TIME OCC'\u001b[0m\u001b[0;34m]\u001b[0m \u001b[0;34m==\u001b[0m \u001b[0;36m400\u001b[0m\u001b[0;34m]\u001b[0m\u001b[0;34m.\u001b[0m\u001b[0mdescribe\u001b[0m\u001b[0;34m(\u001b[0m\u001b[0;34m)\u001b[0m\u001b[0;34m\u001b[0m\u001b[0m\n\u001b[0;32m----> 2\u001b[0;31m \u001b[0mgeo_400\u001b[0m \u001b[0;34m=\u001b[0m \u001b[0mgeo_400\u001b[0m\u001b[0;34m[\u001b[0m\u001b[0mgeo_df\u001b[0m\u001b[0;34m[\u001b[0m\u001b[0;34m'LAT'\u001b[0m\u001b[0;34m]\u001b[0m \u001b[0;34m!=\u001b[0m \u001b[0;36m0\u001b[0m\u001b[0;34m]\u001b[0m\u001b[0;34m.\u001b[0m\u001b[0mdescribe\u001b[0m\u001b[0;34m(\u001b[0m\u001b[0;34m)\u001b[0m\u001b[0;34m\u001b[0m\u001b[0m\n\u001b[0m",
      "\u001b[0;32m~/Documents/GitHub/MSDS-ML1-VisualizationAndDataProcessing/Julia/lacrime-env/lib/python3.6/site-packages/pandas/core/frame.py\u001b[0m in \u001b[0;36m__getitem__\u001b[0;34m(self, key)\u001b[0m\n\u001b[1;32m   2789\u001b[0m         \u001b[0;31m# Do we have a (boolean) 1d indexer?\u001b[0m\u001b[0;34m\u001b[0m\u001b[0;34m\u001b[0m\u001b[0m\n\u001b[1;32m   2790\u001b[0m         \u001b[0;32mif\u001b[0m \u001b[0mcom\u001b[0m\u001b[0;34m.\u001b[0m\u001b[0mis_bool_indexer\u001b[0m\u001b[0;34m(\u001b[0m\u001b[0mkey\u001b[0m\u001b[0;34m)\u001b[0m\u001b[0;34m:\u001b[0m\u001b[0;34m\u001b[0m\u001b[0m\n\u001b[0;32m-> 2791\u001b[0;31m             \u001b[0;32mreturn\u001b[0m \u001b[0mself\u001b[0m\u001b[0;34m.\u001b[0m\u001b[0m_getitem_bool_array\u001b[0m\u001b[0;34m(\u001b[0m\u001b[0mkey\u001b[0m\u001b[0;34m)\u001b[0m\u001b[0;34m\u001b[0m\u001b[0m\n\u001b[0m\u001b[1;32m   2792\u001b[0m \u001b[0;34m\u001b[0m\u001b[0m\n\u001b[1;32m   2793\u001b[0m         \u001b[0;31m# We are left with two options: a single key, and a collection of keys,\u001b[0m\u001b[0;34m\u001b[0m\u001b[0;34m\u001b[0m\u001b[0m\n",
      "\u001b[0;32m~/Documents/GitHub/MSDS-ML1-VisualizationAndDataProcessing/Julia/lacrime-env/lib/python3.6/site-packages/pandas/core/frame.py\u001b[0m in \u001b[0;36m_getitem_bool_array\u001b[0;34m(self, key)\u001b[0m\n\u001b[1;32m   2841\u001b[0m         \u001b[0;31m# check_bool_indexer will throw exception if Series key cannot\u001b[0m\u001b[0;34m\u001b[0m\u001b[0;34m\u001b[0m\u001b[0m\n\u001b[1;32m   2842\u001b[0m         \u001b[0;31m# be reindexed to match DataFrame rows\u001b[0m\u001b[0;34m\u001b[0m\u001b[0;34m\u001b[0m\u001b[0m\n\u001b[0;32m-> 2843\u001b[0;31m         \u001b[0mkey\u001b[0m \u001b[0;34m=\u001b[0m \u001b[0mcheck_bool_indexer\u001b[0m\u001b[0;34m(\u001b[0m\u001b[0mself\u001b[0m\u001b[0;34m.\u001b[0m\u001b[0mindex\u001b[0m\u001b[0;34m,\u001b[0m \u001b[0mkey\u001b[0m\u001b[0;34m)\u001b[0m\u001b[0;34m\u001b[0m\u001b[0m\n\u001b[0m\u001b[1;32m   2844\u001b[0m         \u001b[0mindexer\u001b[0m \u001b[0;34m=\u001b[0m \u001b[0mkey\u001b[0m\u001b[0;34m.\u001b[0m\u001b[0mnonzero\u001b[0m\u001b[0;34m(\u001b[0m\u001b[0;34m)\u001b[0m\u001b[0;34m[\u001b[0m\u001b[0;36m0\u001b[0m\u001b[0;34m]\u001b[0m\u001b[0;34m\u001b[0m\u001b[0m\n\u001b[1;32m   2845\u001b[0m         \u001b[0;32mreturn\u001b[0m \u001b[0mself\u001b[0m\u001b[0;34m.\u001b[0m\u001b[0m_take_with_is_copy\u001b[0m\u001b[0;34m(\u001b[0m\u001b[0mindexer\u001b[0m\u001b[0;34m,\u001b[0m \u001b[0maxis\u001b[0m\u001b[0;34m=\u001b[0m\u001b[0;36m0\u001b[0m\u001b[0;34m)\u001b[0m\u001b[0;34m\u001b[0m\u001b[0m\n",
      "\u001b[0;32m~/Documents/GitHub/MSDS-ML1-VisualizationAndDataProcessing/Julia/lacrime-env/lib/python3.6/site-packages/pandas/core/indexing.py\u001b[0m in \u001b[0;36mcheck_bool_indexer\u001b[0;34m(index, key)\u001b[0m\n\u001b[1;32m   2316\u001b[0m         \u001b[0;32mif\u001b[0m \u001b[0mmask\u001b[0m\u001b[0;34m.\u001b[0m\u001b[0many\u001b[0m\u001b[0;34m(\u001b[0m\u001b[0;34m)\u001b[0m\u001b[0;34m:\u001b[0m\u001b[0;34m\u001b[0m\u001b[0m\n\u001b[1;32m   2317\u001b[0m             raise IndexingError(\n\u001b[0;32m-> 2318\u001b[0;31m                 \u001b[0;34m\"Unalignable boolean Series provided as \"\u001b[0m\u001b[0;34m\u001b[0m\u001b[0m\n\u001b[0m\u001b[1;32m   2319\u001b[0m                 \u001b[0;34m\"indexer (index of the boolean Series and of \"\u001b[0m\u001b[0;34m\u001b[0m\u001b[0m\n\u001b[1;32m   2320\u001b[0m                 \u001b[0;34m\"the indexed object do not match).\"\u001b[0m\u001b[0;34m\u001b[0m\u001b[0m\n",
      "\u001b[0;31mIndexingError\u001b[0m: Unalignable boolean Series provided as indexer (index of the boolean Series and of the indexed object do not match)."
     ]
    }
   ],
   "source": [
    "#This was just to limit data\n",
    "#geo_400 = geo_df[geo_df['TIME OCC'] == 400].describe()\n",
    "#geo_400 = geo_400[geo_df['LAT'] != 0].describe()"
   ]
  },
  {
   "cell_type": "markdown",
   "metadata": {},
   "source": [
    "Shape data from LA City Geo data\n",
    "https://geohub.lacity.org/datasets/7835077624374b9fa65676443ba7a578_19"
   ]
  },
  {
   "cell_type": "code",
   "execution_count": 43,
   "metadata": {},
   "outputs": [
    {
     "data": {
      "text/plain": [
       "<matplotlib.axes._subplots.AxesSubplot at 0x1b76dea90>"
      ]
     },
     "execution_count": 43,
     "metadata": {},
     "output_type": "execute_result"
    },
    {
     "data": {
      "image/png": "[encoded data removed]",
      "text/plain": [
       "<Figure size 1080x1080 with 1 Axes>"
      ]
     },
     "metadata": {
      "needs_background": "light"
     },
     "output_type": "display_data"
    }
   ],
   "source": [
    "la_map = gpd.read_file('Data/shape/City_Boundaries.shp')\n",
    "fig,ax = plt.subplots(figsize=(15,15))\n",
    "la_map.plot(ax=ax)"
   ]
  },
  {
   "cell_type": "code",
   "execution_count": 80,
   "metadata": {},
   "outputs": [
    {
     "data": {
      "text/plain": [
       "<matplotlib.legend.Legend at 0x1c78f2f98>"
      ]
     },
     "execution_count": 80,
     "metadata": {},
     "output_type": "execute_result"
    },
    {
     "data": {
      "image/png": "[encoded data removed]",
      "text/plain": [
       "<Figure size 1080x1080 with 1 Axes>"
      ]
     },
     "metadata": {
      "needs_background": "light"
     },
     "output_type": "display_data"
    }
   ],
   "source": [
    "fig,ax = plt.subplots(figsize = (15,15))\n",
    "la_map.plot(ax= ax, alpha = 0.4, color = \"grey\")\n",
    "geo_df['Victim_sex'].plot(ax = ax, markersize = 20, color = \"blue\", marker = 'o', label = 'Crime')\n",
    "plt.legend(prop={'size':15})"
   ]
  },
  {
   "cell_type": "markdown",
   "metadata": {},
   "source": [
    "# Explore Joint Attributes\n",
    "Ideas\n",
    "* (Age, Area)\n",
    "* (Age, Crime Code)\n",
    "* (Age, Gender)"
   ]
  },
  {
   "cell_type": "code",
   "execution_count": 57,
   "metadata": {},
   "outputs": [
    {
     "ename": "TypeError",
     "evalue": "'int' object is not iterable",
     "output_type": "error",
     "traceback": [
      "\u001b[0;31m---------------------------------------------------------------------------\u001b[0m",
      "\u001b[0;31mTypeError\u001b[0m                                 Traceback (most recent call last)",
      "\u001b[0;32m<ipython-input-57-35013171f8a7>\u001b[0m in \u001b[0;36m<module>\u001b[0;34m\u001b[0m\n\u001b[0;32m----> 1\u001b[0;31m \u001b[0msum\u001b[0m\u001b[0;34m(\u001b[0m\u001b[0memptyLATLON\u001b[0m\u001b[0;34m)\u001b[0m\u001b[0;34m\u001b[0m\u001b[0m\n\u001b[0m",
      "\u001b[0;31mTypeError\u001b[0m: 'int' object is not iterable"
     ]
    }
   ],
   "source": []
  },
  {
   "cell_type": "markdown",
   "metadata": {},
   "source": [
    "# Explore Attributes and Class\n",
    "\n",
    "So far interesting vars\n",
    "* Victim Age\n",
    "* LAT/Lon\n",
    "* Area"
   ]
  },
  {
   "cell_type": "code",
   "execution_count": null,
   "metadata": {},
   "outputs": [],
   "source": [
    "\n",
    "\n"
   ]
  },
  {
   "cell_type": "markdown",
   "metadata": {},
   "source": [
    "# New Features\n",
    "Ages bucketed\n",
    "* Pre-school\n",
    "* School-Age\n",
    "* Early Twenties\n",
    "* Late Twenties\n",
    "* Thirties\n",
    "* Fourties\n",
    "* Fifties\n",
    "\n",
    "Time to Report\n",
    "* Time reported - Time Occurred\n",
    "\n",
    "Mocodes\n",
    "* Finding the most prevalent codes among the lists and dummy coding \n",
    "\n",
    "Weapon Noted\n",
    "* Weapon Used - Not Reported\n",
    "\n",
    "Number of Charges\n",
    "* Crime code 1-4 Not null count\n",
    "\n",
    "Reported as a Block\n",
    "* Yes if Cross-street is null/blank\n",
    "\n",
    "Time occurrence in relation to time of year\n",
    "* Sunrise\n",
    "* Day\n",
    "* Sunset\n",
    "* Evening\n",
    "\n",
    "Parsed Date Data\n",
    "* Month\n",
    "* Year\n",
    "* Day of Week"
   ]
  },
  {
   "cell_type": "code",
   "execution_count": null,
   "metadata": {},
   "outputs": [],
   "source": []
  },
  {
   "cell_type": "code",
   "execution_count": null,
   "metadata": {},
   "outputs": [],
   "source": []
  }
 ],
 "metadata": {
  "kernelspec": {
   "display_name": "Python 3",
   "language": "python",
   "name": "python3"
  },
  "language_info": {
   "codemirror_mode": {
    "name": "ipython",
    "version": 3
   },
   "file_extension": ".py",
   "mimetype": "text/x-python",
   "name": "python",
   "nbconvert_exporter": "python",
   "pygments_lexer": "ipython3",
   "version": "3.7.1"
  }
 },
 "nbformat": 4,
 "nbformat_minor": 4
}
